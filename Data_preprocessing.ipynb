{
  "nbformat": 4,
  "nbformat_minor": 0,
  "metadata": {
    "colab": {
      "provenance": [],
      "collapsed_sections": [
        "Sd6BhoG233ZT",
        "wXaJQlfx4VZD",
        "vj8odIl6BucF"
      ],
      "toc_visible": true
    },
    "kernelspec": {
      "name": "python3",
      "display_name": "Python 3"
    },
    "language_info": {
      "name": "python"
    }
  },
  "cells": [
    {
      "cell_type": "markdown",
      "source": [
        "# 1) Import packages and data"
      ],
      "metadata": {
        "id": "bvUTq04G3tTx"
      }
    },
    {
      "cell_type": "code",
      "execution_count": 1,
      "metadata": {
        "id": "VH6IbW8BRFmz"
      },
      "outputs": [],
      "source": [
        "import numpy as np # linear algebra\n",
        "import pandas as pd # data processing, CSV file I/O (e.g. pd.read_csv)\n",
        "import matplotlib.pyplot as plt # data visualization\n",
        "import seaborn as sns # statistical data visualization\n",
        "%matplotlib inline"
      ]
    },
    {
      "cell_type": "code",
      "source": [
        "import warnings\n",
        "\n",
        "warnings.filterwarnings('ignore')"
      ],
      "metadata": {
        "id": "Syof6twZRyCK"
      },
      "execution_count": 2,
      "outputs": []
    },
    {
      "cell_type": "code",
      "source": [
        "# get data from drive\n",
        "from google.colab import drive\n",
        "drive.mount('/content/drive')"
      ],
      "metadata": {
        "colab": {
          "base_uri": "https://localhost:8080/"
        },
        "id": "FtcvwBszR27a",
        "outputId": "6c85bc4d-cc60-4aa4-b9c6-e79baf357302"
      },
      "execution_count": 3,
      "outputs": [
        {
          "output_type": "stream",
          "name": "stdout",
          "text": [
            "Mounted at /content/drive\n"
          ]
        }
      ]
    },
    {
      "cell_type": "code",
      "source": [
        "%cd /content/drive/My Drive/Colab Notebooks/"
      ],
      "metadata": {
        "colab": {
          "base_uri": "https://localhost:8080/"
        },
        "id": "RWeyEUPxShyx",
        "outputId": "9261e3b2-034f-4809-cc9e-b8abd0fb03b2"
      },
      "execution_count": 4,
      "outputs": [
        {
          "output_type": "stream",
          "name": "stdout",
          "text": [
            "/content/drive/My Drive/Colab Notebooks\n"
          ]
        }
      ]
    },
    {
      "cell_type": "code",
      "source": [
        "df = pd.read_csv('Cocoon_official_15042023.csv')"
      ],
      "metadata": {
        "id": "OmrAvxpASkYj"
      },
      "execution_count": 108,
      "outputs": []
    },
    {
      "cell_type": "code",
      "source": [
        "df.info()"
      ],
      "metadata": {
        "colab": {
          "base_uri": "https://localhost:8080/"
        },
        "id": "5jHh_CDq5XxQ",
        "outputId": "1903ec59-71bf-4500-87d3-8fa144a80982"
      },
      "execution_count": null,
      "outputs": [
        {
          "output_type": "stream",
          "name": "stdout",
          "text": [
            "<class 'pandas.core.frame.DataFrame'>\n",
            "RangeIndex: 3826 entries, 0 to 3825\n",
            "Data columns (total 8 columns):\n",
            " #   Column         Non-Null Count  Dtype \n",
            "---  ------         --------------  ----- \n",
            " 0   Name           3694 non-null   object\n",
            " 1   Price          3619 non-null   object\n",
            " 2   Sales          3661 non-null   object\n",
            " 3   URL            3826 non-null   object\n",
            " 4   Rating         3586 non-null   object\n",
            " 5   Rating record  3574 non-null   object\n",
            " 6   Date           3826 non-null   object\n",
            " 7   Discount       563 non-null    object\n",
            "dtypes: object(8)\n",
            "memory usage: 239.2+ KB\n"
          ]
        }
      ]
    },
    {
      "cell_type": "markdown",
      "source": [
        "# 2) Simple processing on null and unnecessary data"
      ],
      "metadata": {
        "id": "Sd6BhoG233ZT"
      }
    },
    {
      "cell_type": "markdown",
      "source": [
        "1) Eliminate 'URL' column as I will not be needing it in the future"
      ],
      "metadata": {
        "id": "zle7pcFEVc27"
      }
    },
    {
      "cell_type": "code",
      "source": [
        "df=df.drop(columns=['URL'])"
      ],
      "metadata": {
        "id": "yJkQ3bWOTAso"
      },
      "execution_count": 109,
      "outputs": []
    },
    {
      "cell_type": "markdown",
      "source": [
        "2) Filter to eliminate null value in \"Name\". For sales data, later on, it will use filter code which is only aplicaple with nonnull data (step 4)"
      ],
      "metadata": {
        "id": "79rC6hjZVvIK"
      }
    },
    {
      "cell_type": "code",
      "source": [
        "df = df.dropna(subset=['Name', 'Sales'])"
      ],
      "metadata": {
        "id": "0oM0c2V0VEzi"
      },
      "execution_count": 7,
      "outputs": []
    },
    {
      "cell_type": "code",
      "source": [
        "df = df.dropna(subset=['Name'])"
      ],
      "metadata": {
        "id": "vBmX6KlUvtj6"
      },
      "execution_count": 100,
      "outputs": []
    },
    {
      "cell_type": "code",
      "source": [
        "print(df)"
      ],
      "metadata": {
        "id": "fOWPfWQLVTli",
        "colab": {
          "base_uri": "https://localhost:8080/"
        },
        "outputId": "e54ef4f6-7759-4f9b-a67f-7738eaf62873"
      },
      "execution_count": 8,
      "outputs": [
        {
          "output_type": "stream",
          "name": "stdout",
          "text": [
            "                                                   Name     Price  \\\n",
            "0     HÀNG TẶNG KHÔNG BÁN - Gel rửa mặt cà phê Đắk L...   195.000   \n",
            "1     Gel rửa mặt cà phê Đắk Lắk Cocoon cho làn da t...   195.000   \n",
            "2     [DEAL 1 TẶNG 1 ĐỘC QUYỀN FLASH SALE] Bơ dưỡng ...   340.000   \n",
            "3     Combo Sáng Mịn Sạch Mụn: 1 Gel tắm bí đao Coco...   351.000   \n",
            "4     [Mã COSCN12 giảm 8%] Bơ dưỡng thể cà phê Đắk L...   215.000   \n",
            "...                                                 ...       ...   \n",
            "3821  [Mã COSCN12 giảm 8%] Bigsize - Nước tẩy trang ...  ₫250.750   \n",
            "3822  [Mã COSCN12 giảm 8%] Bigsize - Thạch hoa hồng ...  ₫327.250   \n",
            "3823  [Mã COSCN12 giảm 8%] Nước hoa hồng (toner) Coc...  ₫165.750   \n",
            "3824  [Mã COSCN12 giảm 8%] Tinh chất hoa hồng (serum...  ₫225.250   \n",
            "3825  [Mã COSCN12 giảm 8%] Thạch hoa hồng dưỡng ẩm (...  ₫165.750   \n",
            "\n",
            "             Sales Rating Rating record       Date  Discount  \n",
            "0                     NaN           NaN   2/9/2023       NaN  \n",
            "1       Đã bán 175    4.9            64   2/9/2023       NaN  \n",
            "2       Đã bán 629                        2/9/2023       NaN  \n",
            "3      Đã bán 1,4k    NaN           NaN   2/9/2023       NaN  \n",
            "4     Đã bán 10,5k    5.0          4,3k   2/9/2023       NaN  \n",
            "...            ...    ...           ...        ...       ...  \n",
            "3821          8,9k    4,9          3,2k  4/15/2023  15% giảm  \n",
            "3822          6,9k    4,9          2,5k  4/15/2023  15% giảm  \n",
            "3823         13,1k      5          4,8k  4/15/2023  15% giảm  \n",
            "3824            4k      5          1,5k  4/15/2023  15% giảm  \n",
            "3825         16,4k      5          6,7k  4/15/2023  15% giảm  \n",
            "\n",
            "[3661 rows x 7 columns]\n"
          ]
        }
      ]
    },
    {
      "cell_type": "code",
      "source": [
        "# check if df reach needed non-null features and check for type of data for the next step\n",
        "df.info()\n",
        "df.isnull().sum()"
      ],
      "metadata": {
        "id": "0Dzoc6zSWe9B",
        "colab": {
          "base_uri": "https://localhost:8080/"
        },
        "outputId": "ed1afdbf-2361-4b00-afb0-73d8e6b79792"
      },
      "execution_count": 9,
      "outputs": [
        {
          "output_type": "stream",
          "name": "stdout",
          "text": [
            "<class 'pandas.core.frame.DataFrame'>\n",
            "Int64Index: 3661 entries, 0 to 3825\n",
            "Data columns (total 7 columns):\n",
            " #   Column         Non-Null Count  Dtype \n",
            "---  ------         --------------  ----- \n",
            " 0   Name           3661 non-null   object\n",
            " 1   Price          3586 non-null   object\n",
            " 2   Sales          3661 non-null   object\n",
            " 3   Rating         3583 non-null   object\n",
            " 4   Rating record  3571 non-null   object\n",
            " 5   Date           3661 non-null   object\n",
            " 6   Discount       534 non-null    object\n",
            "dtypes: object(7)\n",
            "memory usage: 228.8+ KB\n"
          ]
        },
        {
          "output_type": "execute_result",
          "data": {
            "text/plain": [
              "Name                0\n",
              "Price              75\n",
              "Sales               0\n",
              "Rating             78\n",
              "Rating record      90\n",
              "Date                0\n",
              "Discount         3127\n",
              "dtype: int64"
            ]
          },
          "metadata": {},
          "execution_count": 9
        }
      ]
    },
    {
      "cell_type": "markdown",
      "source": [
        "# 3) Date"
      ],
      "metadata": {
        "id": "wXaJQlfx4VZD"
      }
    },
    {
      "cell_type": "code",
      "source": [
        "from datetime import datetime\n",
        "# filter dataframe into two subset right_dates and error_dates, which are date in the right format \"mm/dd/yyyy\" and those aren't \n",
        "e_dates = pd.to_datetime(df['Date'], format='%m/%d/%Y', errors='coerce').isna()\n",
        "error_dates = df[e_dates]\n",
        "\n",
        "r_dates = pd.to_datetime(df['Date'], format='%m/%d/%Y', errors='coerce').notna()\n",
        "right_dates = df[r_dates]\n",
        "\n",
        "#change date in wrong format to right format\n",
        "error_dates['Date'] = pd.to_datetime(error_dates['Date'], format='%d/%m/%Y').dt.strftime('%m/%d/%Y')\n",
        "\n",
        "#combine subset back to one original one\n",
        "df = pd.concat([error_dates, right_dates], ignore_index=True)"
      ],
      "metadata": {
        "id": "EmH1h0K1w9Zw"
      },
      "execution_count": 101,
      "outputs": []
    },
    {
      "cell_type": "markdown",
      "source": [
        "# 4) Sales"
      ],
      "metadata": {
        "id": "YfDdwnpe4ZkM"
      }
    },
    {
      "cell_type": "markdown",
      "source": [
        "4.1) Remove \"Da ban\" part in \"Sales\" and  to make \"Sales\" in the same structure."
      ],
      "metadata": {
        "id": "kk-AUHXSEFny"
      }
    },
    {
      "cell_type": "code",
      "source": [
        "da_ban_data = df[df['Sales'].str.startswith('Đã bán')]\n",
        "non_da_ban_data = df[~df['Sales'].str.startswith('Đã bán')]\n",
        "# remove \"Đã bán\" part from beginning of each string\n",
        "da_ban_data['Sales'] = da_ban_data['Sales'].str.replace('Đã bán', '')\n",
        "# merge filtered dataset back into original dataset\n",
        "df = pd.concat([da_ban_data, non_da_ban_data], ignore_index=True)"
      ],
      "metadata": {
        "id": "Sfy6_VOLCsvS"
      },
      "execution_count": 14,
      "outputs": []
    },
    {
      "cell_type": "markdown",
      "source": [
        "4.2) turn \"k\" to thousands and change data type (to make \"Sales\" in the same type and structure)"
      ],
      "metadata": {
        "id": "HeqYR8DoEv-a"
      }
    },
    {
      "cell_type": "code",
      "source": [
        "def convert_to_numeric(strings):\n",
        "    if \"k\" in strings:\n",
        "        num = float(strings.replace(\"k\", \"\").replace(',', '.'))*1000\n",
        "        return num\n",
        "    else:\n",
        "        return strings\n",
        "df['Sales'] = df['Sales'].apply(convert_to_numeric)\n",
        "# there are data that is empty string as initially it can be \"Da ban\" with no sale number\n",
        "# therefore, replace those with a valid value or remove the row entirely and change column type to numeric\n",
        "df['Sales'] = pd.to_numeric(df['Sales'], errors='coerce').fillna(0)"
      ],
      "metadata": {
        "id": "h7W7W40sNR22"
      },
      "execution_count": 15,
      "outputs": []
    },
    {
      "cell_type": "code",
      "source": [
        "df.info()"
      ],
      "metadata": {
        "id": "Aurr1RO7__dq",
        "colab": {
          "base_uri": "https://localhost:8080/"
        },
        "outputId": "3a9e89b4-e623-4c51-c1ca-d8a3d833bf48"
      },
      "execution_count": 16,
      "outputs": [
        {
          "output_type": "stream",
          "name": "stdout",
          "text": [
            "<class 'pandas.core.frame.DataFrame'>\n",
            "RangeIndex: 3661 entries, 0 to 3660\n",
            "Data columns (total 7 columns):\n",
            " #   Column         Non-Null Count  Dtype         \n",
            "---  ------         --------------  -----         \n",
            " 0   Name           3661 non-null   object        \n",
            " 1   Price          3586 non-null   object        \n",
            " 2   Sales          3661 non-null   float64       \n",
            " 3   Rating         3583 non-null   object        \n",
            " 4   Rating record  3571 non-null   object        \n",
            " 5   Date           3660 non-null   datetime64[ns]\n",
            " 6   Discount       534 non-null    object        \n",
            "dtypes: datetime64[ns](1), float64(1), object(5)\n",
            "memory usage: 200.3+ KB\n"
          ]
        }
      ]
    },
    {
      "cell_type": "code",
      "source": [
        "# print the names of the products with sales equal to 0\n",
        "zero_sales = df[df[\"Sales\"] == 0.0]\n",
        "zero_sales.info()"
      ],
      "metadata": {
        "colab": {
          "base_uri": "https://localhost:8080/"
        },
        "id": "uDqbRGzawO6g",
        "outputId": "a6290ddc-fd60-4d43-e6cf-e5efacea4f91"
      },
      "execution_count": 17,
      "outputs": [
        {
          "output_type": "stream",
          "name": "stdout",
          "text": [
            "<class 'pandas.core.frame.DataFrame'>\n",
            "Int64Index: 60 entries, 234 to 2906\n",
            "Data columns (total 7 columns):\n",
            " #   Column         Non-Null Count  Dtype         \n",
            "---  ------         --------------  -----         \n",
            " 0   Name           60 non-null     object        \n",
            " 1   Price          60 non-null     object        \n",
            " 2   Sales          60 non-null     float64       \n",
            " 3   Rating         25 non-null     object        \n",
            " 4   Rating record  24 non-null     object        \n",
            " 5   Date           60 non-null     datetime64[ns]\n",
            " 6   Discount       6 non-null      object        \n",
            "dtypes: datetime64[ns](1), float64(1), object(5)\n",
            "memory usage: 3.8+ KB\n"
          ]
        }
      ]
    },
    {
      "cell_type": "markdown",
      "source": [
        "# 5) Rating and Rating record\n"
      ],
      "metadata": {
        "id": "iVztLq4zij8E"
      }
    },
    {
      "cell_type": "code",
      "source": [
        "df.info()"
      ],
      "metadata": {
        "colab": {
          "base_uri": "https://localhost:8080/"
        },
        "id": "_iShkNIntXNC",
        "outputId": "6cce442d-bb96-4544-b779-4c9717736a17"
      },
      "execution_count": 40,
      "outputs": [
        {
          "output_type": "stream",
          "name": "stdout",
          "text": [
            "<class 'pandas.core.frame.DataFrame'>\n",
            "RangeIndex: 3661 entries, 0 to 3660\n",
            "Data columns (total 7 columns):\n",
            " #   Column         Non-Null Count  Dtype         \n",
            "---  ------         --------------  -----         \n",
            " 0   Name           3661 non-null   object        \n",
            " 1   Price          3585 non-null   float64       \n",
            " 2   Sales          3661 non-null   float64       \n",
            " 3   Rating         3583 non-null   object        \n",
            " 4   Rating record  3571 non-null   object        \n",
            " 5   Date           3660 non-null   datetime64[ns]\n",
            " 6   Discount(%)    533 non-null    float64       \n",
            "dtypes: datetime64[ns](1), float64(3), object(3)\n",
            "memory usage: 200.3+ KB\n"
          ]
        }
      ]
    },
    {
      "cell_type": "code",
      "source": [
        "df['Rating record'] = df['Rating record'].fillna(value='0')"
      ],
      "metadata": {
        "id": "iyrXVeustouz"
      },
      "execution_count": 42,
      "outputs": []
    },
    {
      "cell_type": "code",
      "source": [
        "def convert_to_numeric(strings):\n",
        "    if \"k\" in strings:\n",
        "        num = float(strings.replace(\"k\", \"\").replace(',', '.'))*1000\n",
        "        return num\n",
        "    else:\n",
        "        return strings"
      ],
      "metadata": {
        "id": "3aM2Ntkgt1La"
      },
      "execution_count": 43,
      "outputs": []
    },
    {
      "cell_type": "code",
      "source": [
        "df['Rating record'] = df['Rating record'].apply(convert_to_numeric)\n",
        "# there are data that is empty string as initially it can be \"Da ban\" with no sale number\n",
        "# therefore, replace those with a valid value or remove the row entirely and change column type to numeric\n",
        "df['Rating record'] = pd.to_numeric(df['Rating record'], errors='coerce').fillna(0)"
      ],
      "metadata": {
        "id": "01t1fnVGp1gs"
      },
      "execution_count": 44,
      "outputs": []
    },
    {
      "cell_type": "code",
      "source": [
        "df"
      ],
      "metadata": {
        "colab": {
          "base_uri": "https://localhost:8080/",
          "height": 423
        },
        "id": "IRg9SbE8EbZp",
        "outputId": "e2670d1f-37d2-4bf3-95a4-0200072ab7c2"
      },
      "execution_count": 45,
      "outputs": [
        {
          "output_type": "execute_result",
          "data": {
            "text/plain": [
              "                                                   Name   Price    Sales  \\\n",
              "0     Gel rửa mặt cà phê Đắk Lắk Cocoon cho làn da t...  195.00    175.0   \n",
              "1     [DEAL 1 TẶNG 1 ĐỘC QUYỀN FLASH SALE] Bơ dưỡng ...  340.00    629.0   \n",
              "2     Combo Sáng Mịn Sạch Mụn: 1 Gel tắm bí đao Coco...  351.00   1400.0   \n",
              "3     [Mã COSCN12 giảm 8%] Bơ dưỡng thể cà phê Đắk L...  215.00  10500.0   \n",
              "4     [Mã COSCN12 giảm 8%] Combo làm sạch da chết và...  323.00   1600.0   \n",
              "...                                                 ...     ...      ...   \n",
              "3656  [Mã COSCN12 giảm 8%] Bigsize - Nước tẩy trang ...  250.75   8900.0   \n",
              "3657  [Mã COSCN12 giảm 8%] Bigsize - Thạch hoa hồng ...  327.25   6900.0   \n",
              "3658  [Mã COSCN12 giảm 8%] Nước hoa hồng (toner) Coc...  165.75  13100.0   \n",
              "3659  [Mã COSCN12 giảm 8%] Tinh chất hoa hồng (serum...  225.25   4000.0   \n",
              "3660  [Mã COSCN12 giảm 8%] Thạch hoa hồng dưỡng ẩm (...  165.75  16400.0   \n",
              "\n",
              "     Rating  Rating record       Date  Discount(%)  \n",
              "0       4.9           64.0 2023-02-09          NaN  \n",
              "1                      0.0 2023-02-09          NaN  \n",
              "2       NaN            0.0 2023-02-09          NaN  \n",
              "3       5.0         4300.0 2023-02-09          NaN  \n",
              "4       5.0          576.0 2023-02-09          NaN  \n",
              "...     ...            ...        ...          ...  \n",
              "3656    4,9         3200.0 2023-04-15         15.0  \n",
              "3657    4,9         2500.0 2023-04-15         15.0  \n",
              "3658      5         4800.0 2023-04-15         15.0  \n",
              "3659      5         1500.0 2023-04-15         15.0  \n",
              "3660      5         6700.0 2023-04-15         15.0  \n",
              "\n",
              "[3661 rows x 7 columns]"
            ],
            "text/html": [
              "\n",
              "  <div id=\"df-e599304a-fa81-4ec6-b323-256d1d6825b6\">\n",
              "    <div class=\"colab-df-container\">\n",
              "      <div>\n",
              "<style scoped>\n",
              "    .dataframe tbody tr th:only-of-type {\n",
              "        vertical-align: middle;\n",
              "    }\n",
              "\n",
              "    .dataframe tbody tr th {\n",
              "        vertical-align: top;\n",
              "    }\n",
              "\n",
              "    .dataframe thead th {\n",
              "        text-align: right;\n",
              "    }\n",
              "</style>\n",
              "<table border=\"1\" class=\"dataframe\">\n",
              "  <thead>\n",
              "    <tr style=\"text-align: right;\">\n",
              "      <th></th>\n",
              "      <th>Name</th>\n",
              "      <th>Price</th>\n",
              "      <th>Sales</th>\n",
              "      <th>Rating</th>\n",
              "      <th>Rating record</th>\n",
              "      <th>Date</th>\n",
              "      <th>Discount(%)</th>\n",
              "    </tr>\n",
              "  </thead>\n",
              "  <tbody>\n",
              "    <tr>\n",
              "      <th>0</th>\n",
              "      <td>Gel rửa mặt cà phê Đắk Lắk Cocoon cho làn da t...</td>\n",
              "      <td>195.00</td>\n",
              "      <td>175.0</td>\n",
              "      <td>4.9</td>\n",
              "      <td>64.0</td>\n",
              "      <td>2023-02-09</td>\n",
              "      <td>NaN</td>\n",
              "    </tr>\n",
              "    <tr>\n",
              "      <th>1</th>\n",
              "      <td>[DEAL 1 TẶNG 1 ĐỘC QUYỀN FLASH SALE] Bơ dưỡng ...</td>\n",
              "      <td>340.00</td>\n",
              "      <td>629.0</td>\n",
              "      <td></td>\n",
              "      <td>0.0</td>\n",
              "      <td>2023-02-09</td>\n",
              "      <td>NaN</td>\n",
              "    </tr>\n",
              "    <tr>\n",
              "      <th>2</th>\n",
              "      <td>Combo Sáng Mịn Sạch Mụn: 1 Gel tắm bí đao Coco...</td>\n",
              "      <td>351.00</td>\n",
              "      <td>1400.0</td>\n",
              "      <td>NaN</td>\n",
              "      <td>0.0</td>\n",
              "      <td>2023-02-09</td>\n",
              "      <td>NaN</td>\n",
              "    </tr>\n",
              "    <tr>\n",
              "      <th>3</th>\n",
              "      <td>[Mã COSCN12 giảm 8%] Bơ dưỡng thể cà phê Đắk L...</td>\n",
              "      <td>215.00</td>\n",
              "      <td>10500.0</td>\n",
              "      <td>5.0</td>\n",
              "      <td>4300.0</td>\n",
              "      <td>2023-02-09</td>\n",
              "      <td>NaN</td>\n",
              "    </tr>\n",
              "    <tr>\n",
              "      <th>4</th>\n",
              "      <td>[Mã COSCN12 giảm 8%] Combo làm sạch da chết và...</td>\n",
              "      <td>323.00</td>\n",
              "      <td>1600.0</td>\n",
              "      <td>5.0</td>\n",
              "      <td>576.0</td>\n",
              "      <td>2023-02-09</td>\n",
              "      <td>NaN</td>\n",
              "    </tr>\n",
              "    <tr>\n",
              "      <th>...</th>\n",
              "      <td>...</td>\n",
              "      <td>...</td>\n",
              "      <td>...</td>\n",
              "      <td>...</td>\n",
              "      <td>...</td>\n",
              "      <td>...</td>\n",
              "      <td>...</td>\n",
              "    </tr>\n",
              "    <tr>\n",
              "      <th>3656</th>\n",
              "      <td>[Mã COSCN12 giảm 8%] Bigsize - Nước tẩy trang ...</td>\n",
              "      <td>250.75</td>\n",
              "      <td>8900.0</td>\n",
              "      <td>4,9</td>\n",
              "      <td>3200.0</td>\n",
              "      <td>2023-04-15</td>\n",
              "      <td>15.0</td>\n",
              "    </tr>\n",
              "    <tr>\n",
              "      <th>3657</th>\n",
              "      <td>[Mã COSCN12 giảm 8%] Bigsize - Thạch hoa hồng ...</td>\n",
              "      <td>327.25</td>\n",
              "      <td>6900.0</td>\n",
              "      <td>4,9</td>\n",
              "      <td>2500.0</td>\n",
              "      <td>2023-04-15</td>\n",
              "      <td>15.0</td>\n",
              "    </tr>\n",
              "    <tr>\n",
              "      <th>3658</th>\n",
              "      <td>[Mã COSCN12 giảm 8%] Nước hoa hồng (toner) Coc...</td>\n",
              "      <td>165.75</td>\n",
              "      <td>13100.0</td>\n",
              "      <td>5</td>\n",
              "      <td>4800.0</td>\n",
              "      <td>2023-04-15</td>\n",
              "      <td>15.0</td>\n",
              "    </tr>\n",
              "    <tr>\n",
              "      <th>3659</th>\n",
              "      <td>[Mã COSCN12 giảm 8%] Tinh chất hoa hồng (serum...</td>\n",
              "      <td>225.25</td>\n",
              "      <td>4000.0</td>\n",
              "      <td>5</td>\n",
              "      <td>1500.0</td>\n",
              "      <td>2023-04-15</td>\n",
              "      <td>15.0</td>\n",
              "    </tr>\n",
              "    <tr>\n",
              "      <th>3660</th>\n",
              "      <td>[Mã COSCN12 giảm 8%] Thạch hoa hồng dưỡng ẩm (...</td>\n",
              "      <td>165.75</td>\n",
              "      <td>16400.0</td>\n",
              "      <td>5</td>\n",
              "      <td>6700.0</td>\n",
              "      <td>2023-04-15</td>\n",
              "      <td>15.0</td>\n",
              "    </tr>\n",
              "  </tbody>\n",
              "</table>\n",
              "<p>3661 rows × 7 columns</p>\n",
              "</div>\n",
              "      <button class=\"colab-df-convert\" onclick=\"convertToInteractive('df-e599304a-fa81-4ec6-b323-256d1d6825b6')\"\n",
              "              title=\"Convert this dataframe to an interactive table.\"\n",
              "              style=\"display:none;\">\n",
              "        \n",
              "  <svg xmlns=\"http://www.w3.org/2000/svg\" height=\"24px\"viewBox=\"0 0 24 24\"\n",
              "       width=\"24px\">\n",
              "    <path d=\"M0 0h24v24H0V0z\" fill=\"none\"/>\n",
              "    <path d=\"M18.56 5.44l.94 2.06.94-2.06 2.06-.94-2.06-.94-.94-2.06-.94 2.06-2.06.94zm-11 1L8.5 8.5l.94-2.06 2.06-.94-2.06-.94L8.5 2.5l-.94 2.06-2.06.94zm10 10l.94 2.06.94-2.06 2.06-.94-2.06-.94-.94-2.06-.94 2.06-2.06.94z\"/><path d=\"M17.41 7.96l-1.37-1.37c-.4-.4-.92-.59-1.43-.59-.52 0-1.04.2-1.43.59L10.3 9.45l-7.72 7.72c-.78.78-.78 2.05 0 2.83L4 21.41c.39.39.9.59 1.41.59.51 0 1.02-.2 1.41-.59l7.78-7.78 2.81-2.81c.8-.78.8-2.07 0-2.86zM5.41 20L4 18.59l7.72-7.72 1.47 1.35L5.41 20z\"/>\n",
              "  </svg>\n",
              "      </button>\n",
              "      \n",
              "  <style>\n",
              "    .colab-df-container {\n",
              "      display:flex;\n",
              "      flex-wrap:wrap;\n",
              "      gap: 12px;\n",
              "    }\n",
              "\n",
              "    .colab-df-convert {\n",
              "      background-color: #E8F0FE;\n",
              "      border: none;\n",
              "      border-radius: 50%;\n",
              "      cursor: pointer;\n",
              "      display: none;\n",
              "      fill: #1967D2;\n",
              "      height: 32px;\n",
              "      padding: 0 0 0 0;\n",
              "      width: 32px;\n",
              "    }\n",
              "\n",
              "    .colab-df-convert:hover {\n",
              "      background-color: #E2EBFA;\n",
              "      box-shadow: 0px 1px 2px rgba(60, 64, 67, 0.3), 0px 1px 3px 1px rgba(60, 64, 67, 0.15);\n",
              "      fill: #174EA6;\n",
              "    }\n",
              "\n",
              "    [theme=dark] .colab-df-convert {\n",
              "      background-color: #3B4455;\n",
              "      fill: #D2E3FC;\n",
              "    }\n",
              "\n",
              "    [theme=dark] .colab-df-convert:hover {\n",
              "      background-color: #434B5C;\n",
              "      box-shadow: 0px 1px 3px 1px rgba(0, 0, 0, 0.15);\n",
              "      filter: drop-shadow(0px 1px 2px rgba(0, 0, 0, 0.3));\n",
              "      fill: #FFFFFF;\n",
              "    }\n",
              "  </style>\n",
              "\n",
              "      <script>\n",
              "        const buttonEl =\n",
              "          document.querySelector('#df-e599304a-fa81-4ec6-b323-256d1d6825b6 button.colab-df-convert');\n",
              "        buttonEl.style.display =\n",
              "          google.colab.kernel.accessAllowed ? 'block' : 'none';\n",
              "\n",
              "        async function convertToInteractive(key) {\n",
              "          const element = document.querySelector('#df-e599304a-fa81-4ec6-b323-256d1d6825b6');\n",
              "          const dataTable =\n",
              "            await google.colab.kernel.invokeFunction('convertToInteractive',\n",
              "                                                     [key], {});\n",
              "          if (!dataTable) return;\n",
              "\n",
              "          const docLinkHtml = 'Like what you see? Visit the ' +\n",
              "            '<a target=\"_blank\" href=https://colab.research.google.com/notebooks/data_table.ipynb>data table notebook</a>'\n",
              "            + ' to learn more about interactive tables.';\n",
              "          element.innerHTML = '';\n",
              "          dataTable['output_type'] = 'display_data';\n",
              "          await google.colab.output.renderOutput(dataTable, element);\n",
              "          const docLink = document.createElement('div');\n",
              "          docLink.innerHTML = docLinkHtml;\n",
              "          element.appendChild(docLink);\n",
              "        }\n",
              "      </script>\n",
              "    </div>\n",
              "  </div>\n",
              "  "
            ]
          },
          "metadata": {},
          "execution_count": 45
        }
      ]
    },
    {
      "cell_type": "code",
      "source": [
        "df['Rating'] = df['Rating'].str.replace('Chưa Có Đánh Giá', '0')\n",
        "\n",
        "# therefore, replace those with a valid value or remove the row entirely and change column type to numeric\n",
        "df['Rating'] = pd.to_numeric(df['Rating'], errors='coerce').fillna(0)\n",
        "df = df.dropna(subset=['Rating'])"
      ],
      "metadata": {
        "id": "uzydjeHGupJr"
      },
      "execution_count": 56,
      "outputs": []
    },
    {
      "cell_type": "markdown",
      "source": [
        "# 6) Price"
      ],
      "metadata": {
        "id": "vj8odIl6BucF"
      }
    },
    {
      "cell_type": "code",
      "source": [
        "# extract only the numeric part of the \"Price\" column\n",
        "df[\"Price\"] = df[\"Price\"].str.extract(r\"(\\d+\\.?\\d*)\").astype(float)"
      ],
      "metadata": {
        "id": "afZQuYCPBHXL"
      },
      "execution_count": 19,
      "outputs": []
    },
    {
      "cell_type": "code",
      "source": [
        "# extract only the numeric part of the \"Discount\" column\n",
        "df[\"Discount\"] = df[\"Discount\"].str.extract(r\"(\\d+\\.?\\d*)\").astype(float)\n",
        "df.columns = df.columns.str.replace('Discount', 'Discount(%)')"
      ],
      "metadata": {
        "id": "zUMm8U4vkClx"
      },
      "execution_count": 20,
      "outputs": []
    },
    {
      "cell_type": "markdown",
      "source": [
        "# 7) Category and Product ID"
      ],
      "metadata": {
        "id": "XoBarn1zhcNZ"
      }
    },
    {
      "cell_type": "code",
      "source": [
        "# define a function to assign categories based on product names\n",
        "def assign_category(name):\n",
        "    if \"cà phê\" in name.lower():\n",
        "        return \"Coffee\"\n",
        "    elif \"hoa hồng\" in name.lower():\n",
        "        return \"Rose\"\n",
        "    elif \"bưởi\" in name.lower():\n",
        "        return \"Pomelo\"\n",
        "    elif \"nghệ\" in name.lower():\n",
        "        return \"Ginger\"\n",
        "    elif \"bí đao\" in name.lower():\n",
        "        return \"Squash\"\n",
        "    else:\n",
        "        return \"Other\"\n",
        "\n",
        "# define a function to assign categories based on product names\n",
        "def assign_ini(name):\n",
        "    if \"cà phê\" in name.lower():\n",
        "        return \"C\"\n",
        "    elif \"hoa hồng\" in name.lower():\n",
        "        return \"R\"\n",
        "    elif \"bưởi\" in name.lower():\n",
        "        return \"P\"\n",
        "    elif \"nghệ\" in name.lower():\n",
        "        return \"G\"\n",
        "    elif \"bí đao\" in name.lower():\n",
        "        return \"S\"\n",
        "    else:\n",
        "        return \"O\"\n",
        "# apply the function to create a new \"category\" column\n",
        "df[\"Category\"] = df[\"Name\"].apply(lambda name: assign_category(name))\n",
        "df[\"Ini_cat\"] = df[\"Name\"].apply(lambda name: assign_ini(name))"
      ],
      "metadata": {
        "id": "Agx3dtGcFHcc"
      },
      "execution_count": 46,
      "outputs": []
    },
    {
      "cell_type": "code",
      "source": [
        "#create seperate dataset for each category\n",
        "coffee_df = df[df[\"Category\"] == \"Coffee\"]\n",
        "rose_df = df[df[\"Category\"] == \"Rose\"]\n",
        "pomelo_df = df[df[\"Category\"] == \"Pomelo\"]\n",
        "ginger_df = df[df[\"Category\"] == \"Ginger\"]\n",
        "squash_df = df[df[\"Category\"] == \"Squash\"]\n",
        "\n",
        "# group by product name and assign a product ID to each category\n",
        "coffee_df[\"Group_ID\"] = coffee_df.groupby(\"Name\").ngroup() + 1\n",
        "rose_df[\"Group_ID\"] = rose_df.groupby(\"Name\").ngroup() + 1\n",
        "pomelo_df[\"Group_ID\"] = pomelo_df.groupby(\"Name\").ngroup() + 1\n",
        "ginger_df[\"Group_ID\"] = ginger_df.groupby(\"Name\").ngroup() + 1\n",
        "squash_df[\"Group_ID\"] = squash_df.groupby(\"Name\").ngroup() + 1"
      ],
      "metadata": {
        "id": "ssGGqYsnb_GI"
      },
      "execution_count": 47,
      "outputs": []
    },
    {
      "cell_type": "code",
      "source": [
        "# merge data with category type and ID back as official dataset \n",
        "df=pd.concat([coffee_df, rose_df, pomelo_df, ginger_df, squash_df], ignore_index=True)\n",
        "\n",
        "# create Product_ID column based on category initial and category ID\n",
        "df['Product_ID'] = df.apply(lambda row: str(row['Ini_cat']) + str(row['Group_ID']), axis=1)"
      ],
      "metadata": {
        "id": "iIJszGBwehII"
      },
      "execution_count": 48,
      "outputs": []
    },
    {
      "cell_type": "code",
      "source": [
        "discount_program = df[df[\"Discount(%)\"].notna()]\n",
        "discount_program"
      ],
      "metadata": {
        "id": "V3Ld1Uw6mJnK",
        "colab": {
          "base_uri": "https://localhost:8080/",
          "height": 423
        },
        "outputId": "32502e27-d429-432c-8695-cee6577826a5"
      },
      "execution_count": 49,
      "outputs": [
        {
          "output_type": "execute_result",
          "data": {
            "text/plain": [
              "                                                   Name   Price     Sales  \\\n",
              "268   HÀNG TẶNG KHÔNG BÁN - Tẩy da chết mặt cà phê Đ...  165.00    3600.0   \n",
              "269   [Mã COSCN12 giảm 8%] Combo làm sạch da chết và...  323.00    1600.0   \n",
              "270   [DEAL 1 TẶNG 1 ĐỘC QUYỀN FLASH SALE] Bơ dưỡng ...  340.00     734.0   \n",
              "271   [Mã COSCN12 giảm 8%] Tẩy da chết môi cà phê Đắ...   75.00   20400.0   \n",
              "273   [Mã COSCN12 giảm 8%] Tẩy da chết cơ thể cà phê...  125.00  121200.0   \n",
              "...                                                 ...     ...       ...   \n",
              "3656  [COMBO MUA 1 TẶNG 1 ÁP DỤNG 01/04-30/04] Kem c...  395.00     621.0   \n",
              "3657  [Mã COSCN12 giảm 8%] Bigsize - Nước bí đao cân...  250.75    5500.0   \n",
              "3658  Tinh chất bí đao (serum) 7% Niacinamide sạch m...  250.75    4000.0   \n",
              "3659  [Mã COSCN12 giảm 8%] Nước bí đao cân bằng da (...  165.75   17600.0   \n",
              "3660  [Mã COSCN12 giảm 8%] Gel bí đao rửa mặt Cocoon...     NaN   27400.0   \n",
              "\n",
              "     Rating  Rating record       Date  Discount(%) Category Ini_cat  Group_ID  \\\n",
              "268       5         1300.0 2023-02-28         15.0   Coffee       C         8   \n",
              "269       5          589.0 2023-02-28         15.0   Coffee       C        19   \n",
              "270     4,9          226.0 2023-02-28         15.0   Coffee       C        16   \n",
              "271       5         8200.0 2023-02-28         15.0   Coffee       C        21   \n",
              "273       5        44700.0 2023-02-28         15.0   Coffee       C        20   \n",
              "...     ...            ...        ...          ...      ...     ...       ...   \n",
              "3656    4,9          172.0 2023-04-15         43.0   Squash       S        20   \n",
              "3657    4,9         2000.0 2023-04-15         15.0   Squash       S        24   \n",
              "3658    4,9         1400.0 2023-04-15         15.0   Squash       S        18   \n",
              "3659      5         7400.0 2023-04-15         15.0   Squash       S        33   \n",
              "3660      5        10500.0 2023-04-15         15.0   Squash       S        29   \n",
              "\n",
              "     Product_ID  \n",
              "268          C8  \n",
              "269         C19  \n",
              "270         C16  \n",
              "271         C21  \n",
              "273         C20  \n",
              "...         ...  \n",
              "3656        S20  \n",
              "3657        S24  \n",
              "3658        S18  \n",
              "3659        S33  \n",
              "3660        S29  \n",
              "\n",
              "[533 rows x 11 columns]"
            ],
            "text/html": [
              "\n",
              "  <div id=\"df-59a169c6-c464-47a4-9df5-1e8ee9d3aacd\">\n",
              "    <div class=\"colab-df-container\">\n",
              "      <div>\n",
              "<style scoped>\n",
              "    .dataframe tbody tr th:only-of-type {\n",
              "        vertical-align: middle;\n",
              "    }\n",
              "\n",
              "    .dataframe tbody tr th {\n",
              "        vertical-align: top;\n",
              "    }\n",
              "\n",
              "    .dataframe thead th {\n",
              "        text-align: right;\n",
              "    }\n",
              "</style>\n",
              "<table border=\"1\" class=\"dataframe\">\n",
              "  <thead>\n",
              "    <tr style=\"text-align: right;\">\n",
              "      <th></th>\n",
              "      <th>Name</th>\n",
              "      <th>Price</th>\n",
              "      <th>Sales</th>\n",
              "      <th>Rating</th>\n",
              "      <th>Rating record</th>\n",
              "      <th>Date</th>\n",
              "      <th>Discount(%)</th>\n",
              "      <th>Category</th>\n",
              "      <th>Ini_cat</th>\n",
              "      <th>Group_ID</th>\n",
              "      <th>Product_ID</th>\n",
              "    </tr>\n",
              "  </thead>\n",
              "  <tbody>\n",
              "    <tr>\n",
              "      <th>268</th>\n",
              "      <td>HÀNG TẶNG KHÔNG BÁN - Tẩy da chết mặt cà phê Đ...</td>\n",
              "      <td>165.00</td>\n",
              "      <td>3600.0</td>\n",
              "      <td>5</td>\n",
              "      <td>1300.0</td>\n",
              "      <td>2023-02-28</td>\n",
              "      <td>15.0</td>\n",
              "      <td>Coffee</td>\n",
              "      <td>C</td>\n",
              "      <td>8</td>\n",
              "      <td>C8</td>\n",
              "    </tr>\n",
              "    <tr>\n",
              "      <th>269</th>\n",
              "      <td>[Mã COSCN12 giảm 8%] Combo làm sạch da chết và...</td>\n",
              "      <td>323.00</td>\n",
              "      <td>1600.0</td>\n",
              "      <td>5</td>\n",
              "      <td>589.0</td>\n",
              "      <td>2023-02-28</td>\n",
              "      <td>15.0</td>\n",
              "      <td>Coffee</td>\n",
              "      <td>C</td>\n",
              "      <td>19</td>\n",
              "      <td>C19</td>\n",
              "    </tr>\n",
              "    <tr>\n",
              "      <th>270</th>\n",
              "      <td>[DEAL 1 TẶNG 1 ĐỘC QUYỀN FLASH SALE] Bơ dưỡng ...</td>\n",
              "      <td>340.00</td>\n",
              "      <td>734.0</td>\n",
              "      <td>4,9</td>\n",
              "      <td>226.0</td>\n",
              "      <td>2023-02-28</td>\n",
              "      <td>15.0</td>\n",
              "      <td>Coffee</td>\n",
              "      <td>C</td>\n",
              "      <td>16</td>\n",
              "      <td>C16</td>\n",
              "    </tr>\n",
              "    <tr>\n",
              "      <th>271</th>\n",
              "      <td>[Mã COSCN12 giảm 8%] Tẩy da chết môi cà phê Đắ...</td>\n",
              "      <td>75.00</td>\n",
              "      <td>20400.0</td>\n",
              "      <td>5</td>\n",
              "      <td>8200.0</td>\n",
              "      <td>2023-02-28</td>\n",
              "      <td>15.0</td>\n",
              "      <td>Coffee</td>\n",
              "      <td>C</td>\n",
              "      <td>21</td>\n",
              "      <td>C21</td>\n",
              "    </tr>\n",
              "    <tr>\n",
              "      <th>273</th>\n",
              "      <td>[Mã COSCN12 giảm 8%] Tẩy da chết cơ thể cà phê...</td>\n",
              "      <td>125.00</td>\n",
              "      <td>121200.0</td>\n",
              "      <td>5</td>\n",
              "      <td>44700.0</td>\n",
              "      <td>2023-02-28</td>\n",
              "      <td>15.0</td>\n",
              "      <td>Coffee</td>\n",
              "      <td>C</td>\n",
              "      <td>20</td>\n",
              "      <td>C20</td>\n",
              "    </tr>\n",
              "    <tr>\n",
              "      <th>...</th>\n",
              "      <td>...</td>\n",
              "      <td>...</td>\n",
              "      <td>...</td>\n",
              "      <td>...</td>\n",
              "      <td>...</td>\n",
              "      <td>...</td>\n",
              "      <td>...</td>\n",
              "      <td>...</td>\n",
              "      <td>...</td>\n",
              "      <td>...</td>\n",
              "      <td>...</td>\n",
              "    </tr>\n",
              "    <tr>\n",
              "      <th>3656</th>\n",
              "      <td>[COMBO MUA 1 TẶNG 1 ÁP DỤNG 01/04-30/04] Kem c...</td>\n",
              "      <td>395.00</td>\n",
              "      <td>621.0</td>\n",
              "      <td>4,9</td>\n",
              "      <td>172.0</td>\n",
              "      <td>2023-04-15</td>\n",
              "      <td>43.0</td>\n",
              "      <td>Squash</td>\n",
              "      <td>S</td>\n",
              "      <td>20</td>\n",
              "      <td>S20</td>\n",
              "    </tr>\n",
              "    <tr>\n",
              "      <th>3657</th>\n",
              "      <td>[Mã COSCN12 giảm 8%] Bigsize - Nước bí đao cân...</td>\n",
              "      <td>250.75</td>\n",
              "      <td>5500.0</td>\n",
              "      <td>4,9</td>\n",
              "      <td>2000.0</td>\n",
              "      <td>2023-04-15</td>\n",
              "      <td>15.0</td>\n",
              "      <td>Squash</td>\n",
              "      <td>S</td>\n",
              "      <td>24</td>\n",
              "      <td>S24</td>\n",
              "    </tr>\n",
              "    <tr>\n",
              "      <th>3658</th>\n",
              "      <td>Tinh chất bí đao (serum) 7% Niacinamide sạch m...</td>\n",
              "      <td>250.75</td>\n",
              "      <td>4000.0</td>\n",
              "      <td>4,9</td>\n",
              "      <td>1400.0</td>\n",
              "      <td>2023-04-15</td>\n",
              "      <td>15.0</td>\n",
              "      <td>Squash</td>\n",
              "      <td>S</td>\n",
              "      <td>18</td>\n",
              "      <td>S18</td>\n",
              "    </tr>\n",
              "    <tr>\n",
              "      <th>3659</th>\n",
              "      <td>[Mã COSCN12 giảm 8%] Nước bí đao cân bằng da (...</td>\n",
              "      <td>165.75</td>\n",
              "      <td>17600.0</td>\n",
              "      <td>5</td>\n",
              "      <td>7400.0</td>\n",
              "      <td>2023-04-15</td>\n",
              "      <td>15.0</td>\n",
              "      <td>Squash</td>\n",
              "      <td>S</td>\n",
              "      <td>33</td>\n",
              "      <td>S33</td>\n",
              "    </tr>\n",
              "    <tr>\n",
              "      <th>3660</th>\n",
              "      <td>[Mã COSCN12 giảm 8%] Gel bí đao rửa mặt Cocoon...</td>\n",
              "      <td>NaN</td>\n",
              "      <td>27400.0</td>\n",
              "      <td>5</td>\n",
              "      <td>10500.0</td>\n",
              "      <td>2023-04-15</td>\n",
              "      <td>15.0</td>\n",
              "      <td>Squash</td>\n",
              "      <td>S</td>\n",
              "      <td>29</td>\n",
              "      <td>S29</td>\n",
              "    </tr>\n",
              "  </tbody>\n",
              "</table>\n",
              "<p>533 rows × 11 columns</p>\n",
              "</div>\n",
              "      <button class=\"colab-df-convert\" onclick=\"convertToInteractive('df-59a169c6-c464-47a4-9df5-1e8ee9d3aacd')\"\n",
              "              title=\"Convert this dataframe to an interactive table.\"\n",
              "              style=\"display:none;\">\n",
              "        \n",
              "  <svg xmlns=\"http://www.w3.org/2000/svg\" height=\"24px\"viewBox=\"0 0 24 24\"\n",
              "       width=\"24px\">\n",
              "    <path d=\"M0 0h24v24H0V0z\" fill=\"none\"/>\n",
              "    <path d=\"M18.56 5.44l.94 2.06.94-2.06 2.06-.94-2.06-.94-.94-2.06-.94 2.06-2.06.94zm-11 1L8.5 8.5l.94-2.06 2.06-.94-2.06-.94L8.5 2.5l-.94 2.06-2.06.94zm10 10l.94 2.06.94-2.06 2.06-.94-2.06-.94-.94-2.06-.94 2.06-2.06.94z\"/><path d=\"M17.41 7.96l-1.37-1.37c-.4-.4-.92-.59-1.43-.59-.52 0-1.04.2-1.43.59L10.3 9.45l-7.72 7.72c-.78.78-.78 2.05 0 2.83L4 21.41c.39.39.9.59 1.41.59.51 0 1.02-.2 1.41-.59l7.78-7.78 2.81-2.81c.8-.78.8-2.07 0-2.86zM5.41 20L4 18.59l7.72-7.72 1.47 1.35L5.41 20z\"/>\n",
              "  </svg>\n",
              "      </button>\n",
              "      \n",
              "  <style>\n",
              "    .colab-df-container {\n",
              "      display:flex;\n",
              "      flex-wrap:wrap;\n",
              "      gap: 12px;\n",
              "    }\n",
              "\n",
              "    .colab-df-convert {\n",
              "      background-color: #E8F0FE;\n",
              "      border: none;\n",
              "      border-radius: 50%;\n",
              "      cursor: pointer;\n",
              "      display: none;\n",
              "      fill: #1967D2;\n",
              "      height: 32px;\n",
              "      padding: 0 0 0 0;\n",
              "      width: 32px;\n",
              "    }\n",
              "\n",
              "    .colab-df-convert:hover {\n",
              "      background-color: #E2EBFA;\n",
              "      box-shadow: 0px 1px 2px rgba(60, 64, 67, 0.3), 0px 1px 3px 1px rgba(60, 64, 67, 0.15);\n",
              "      fill: #174EA6;\n",
              "    }\n",
              "\n",
              "    [theme=dark] .colab-df-convert {\n",
              "      background-color: #3B4455;\n",
              "      fill: #D2E3FC;\n",
              "    }\n",
              "\n",
              "    [theme=dark] .colab-df-convert:hover {\n",
              "      background-color: #434B5C;\n",
              "      box-shadow: 0px 1px 3px 1px rgba(0, 0, 0, 0.15);\n",
              "      filter: drop-shadow(0px 1px 2px rgba(0, 0, 0, 0.3));\n",
              "      fill: #FFFFFF;\n",
              "    }\n",
              "  </style>\n",
              "\n",
              "      <script>\n",
              "        const buttonEl =\n",
              "          document.querySelector('#df-59a169c6-c464-47a4-9df5-1e8ee9d3aacd button.colab-df-convert');\n",
              "        buttonEl.style.display =\n",
              "          google.colab.kernel.accessAllowed ? 'block' : 'none';\n",
              "\n",
              "        async function convertToInteractive(key) {\n",
              "          const element = document.querySelector('#df-59a169c6-c464-47a4-9df5-1e8ee9d3aacd');\n",
              "          const dataTable =\n",
              "            await google.colab.kernel.invokeFunction('convertToInteractive',\n",
              "                                                     [key], {});\n",
              "          if (!dataTable) return;\n",
              "\n",
              "          const docLinkHtml = 'Like what you see? Visit the ' +\n",
              "            '<a target=\"_blank\" href=https://colab.research.google.com/notebooks/data_table.ipynb>data table notebook</a>'\n",
              "            + ' to learn more about interactive tables.';\n",
              "          element.innerHTML = '';\n",
              "          dataTable['output_type'] = 'display_data';\n",
              "          await google.colab.output.renderOutput(dataTable, element);\n",
              "          const docLink = document.createElement('div');\n",
              "          docLink.innerHTML = docLinkHtml;\n",
              "          element.appendChild(docLink);\n",
              "        }\n",
              "      </script>\n",
              "    </div>\n",
              "  </div>\n",
              "  "
            ]
          },
          "metadata": {},
          "execution_count": 49
        }
      ]
    },
    {
      "cell_type": "code",
      "source": [
        "# Final check for result of preprocessing data: \n",
        "df.info()"
      ],
      "metadata": {
        "colab": {
          "base_uri": "https://localhost:8080/"
        },
        "id": "OTYKBkFptZZt",
        "outputId": "aa22f99c-0ccd-4edd-c17a-dc61c3318e12"
      },
      "execution_count": 50,
      "outputs": [
        {
          "output_type": "stream",
          "name": "stdout",
          "text": [
            "<class 'pandas.core.frame.DataFrame'>\n",
            "RangeIndex: 3661 entries, 0 to 3660\n",
            "Data columns (total 11 columns):\n",
            " #   Column         Non-Null Count  Dtype         \n",
            "---  ------         --------------  -----         \n",
            " 0   Name           3661 non-null   object        \n",
            " 1   Price          3585 non-null   float64       \n",
            " 2   Sales          3661 non-null   float64       \n",
            " 3   Rating         3583 non-null   object        \n",
            " 4   Rating record  3661 non-null   float64       \n",
            " 5   Date           3660 non-null   datetime64[ns]\n",
            " 6   Discount(%)    533 non-null    float64       \n",
            " 7   Category       3661 non-null   object        \n",
            " 8   Ini_cat        3661 non-null   object        \n",
            " 9   Group_ID       3661 non-null   int64         \n",
            " 10  Product_ID     3661 non-null   object        \n",
            "dtypes: datetime64[ns](1), float64(4), int64(1), object(5)\n",
            "memory usage: 314.7+ KB\n"
          ]
        }
      ]
    },
    {
      "cell_type": "code",
      "source": [
        "# Record information of the final data set as \"final_data_info\" \n",
        "final_data_info= df.info()"
      ],
      "metadata": {
        "colab": {
          "base_uri": "https://localhost:8080/"
        },
        "id": "6I5NkT-496ja",
        "outputId": "418a23ee-f8cb-4bff-96ac-8d67a63538e6"
      },
      "execution_count": 51,
      "outputs": [
        {
          "output_type": "stream",
          "name": "stdout",
          "text": [
            "<class 'pandas.core.frame.DataFrame'>\n",
            "RangeIndex: 3661 entries, 0 to 3660\n",
            "Data columns (total 11 columns):\n",
            " #   Column         Non-Null Count  Dtype         \n",
            "---  ------         --------------  -----         \n",
            " 0   Name           3661 non-null   object        \n",
            " 1   Price          3585 non-null   float64       \n",
            " 2   Sales          3661 non-null   float64       \n",
            " 3   Rating         3583 non-null   object        \n",
            " 4   Rating record  3661 non-null   float64       \n",
            " 5   Date           3660 non-null   datetime64[ns]\n",
            " 6   Discount(%)    533 non-null    float64       \n",
            " 7   Category       3661 non-null   object        \n",
            " 8   Ini_cat        3661 non-null   object        \n",
            " 9   Group_ID       3661 non-null   int64         \n",
            " 10  Product_ID     3661 non-null   object        \n",
            "dtypes: datetime64[ns](1), float64(4), int64(1), object(5)\n",
            "memory usage: 314.7+ KB\n"
          ]
        }
      ]
    },
    {
      "cell_type": "code",
      "source": [
        "# Write the DataFrame to a CSV file\n",
        "df.to_csv(\"Preprocessed_data.csv\", index=True)\n",
        "coffee_df.to_csv(\"Coffee_data.csv\", index=True)\n",
        "rose_df.to_csv(\"Rose_df.csv\", index=True)\n",
        "pomelo_df.to_csv(\"Pomelo_df.csv\", index=True)\n",
        "ginger_df.to_csv(\"Ginger_df.csv\", index=True)\n",
        "squash_df.to_csv(\"Squash_df.csv\", index=True)"
      ],
      "metadata": {
        "id": "wnvqmxKQml7Z"
      },
      "execution_count": 52,
      "outputs": []
    },
    {
      "cell_type": "code",
      "source": [
        "df"
      ],
      "metadata": {
        "colab": {
          "base_uri": "https://localhost:8080/",
          "height": 423
        },
        "id": "iJTIcWprqtM3",
        "outputId": "47a43c0d-a09b-4f77-dde9-dab4791b2903"
      },
      "execution_count": 53,
      "outputs": [
        {
          "output_type": "execute_result",
          "data": {
            "text/plain": [
              "                                                   Name   Price    Sales  \\\n",
              "0     Gel rửa mặt cà phê Đắk Lắk Cocoon cho làn da t...  195.00    175.0   \n",
              "1     [DEAL 1 TẶNG 1 ĐỘC QUYỀN FLASH SALE] Bơ dưỡng ...  340.00    629.0   \n",
              "2     Combo Sáng Mịn Sạch Mụn: 1 Gel tắm bí đao Coco...  351.00   1400.0   \n",
              "3     [Mã COSCN12 giảm 8%] Bơ dưỡng thể cà phê Đắk L...  215.00  10500.0   \n",
              "4     [Mã COSCN12 giảm 8%] Combo làm sạch da chết và...  323.00   1600.0   \n",
              "...                                                 ...     ...      ...   \n",
              "3656  [COMBO MUA 1 TẶNG 1 ÁP DỤNG 01/04-30/04] Kem c...  395.00    621.0   \n",
              "3657  [Mã COSCN12 giảm 8%] Bigsize - Nước bí đao cân...  250.75   5500.0   \n",
              "3658  Tinh chất bí đao (serum) 7% Niacinamide sạch m...  250.75   4000.0   \n",
              "3659  [Mã COSCN12 giảm 8%] Nước bí đao cân bằng da (...  165.75  17600.0   \n",
              "3660  [Mã COSCN12 giảm 8%] Gel bí đao rửa mặt Cocoon...     NaN  27400.0   \n",
              "\n",
              "     Rating  Rating record       Date  Discount(%) Category Ini_cat  Group_ID  \\\n",
              "0       4.9           64.0 2023-02-09          NaN   Coffee       C         4   \n",
              "1                      0.0 2023-02-09          NaN   Coffee       C        16   \n",
              "2       NaN            0.0 2023-02-09          NaN   Coffee       C         3   \n",
              "3       5.0         4300.0 2023-02-09          NaN   Coffee       C        17   \n",
              "4       5.0          576.0 2023-02-09          NaN   Coffee       C        19   \n",
              "...     ...            ...        ...          ...      ...     ...       ...   \n",
              "3656    4,9          172.0 2023-04-15         43.0   Squash       S        20   \n",
              "3657    4,9         2000.0 2023-04-15         15.0   Squash       S        24   \n",
              "3658    4,9         1400.0 2023-04-15         15.0   Squash       S        18   \n",
              "3659      5         7400.0 2023-04-15         15.0   Squash       S        33   \n",
              "3660      5        10500.0 2023-04-15         15.0   Squash       S        29   \n",
              "\n",
              "     Product_ID  \n",
              "0            C4  \n",
              "1           C16  \n",
              "2            C3  \n",
              "3           C17  \n",
              "4           C19  \n",
              "...         ...  \n",
              "3656        S20  \n",
              "3657        S24  \n",
              "3658        S18  \n",
              "3659        S33  \n",
              "3660        S29  \n",
              "\n",
              "[3661 rows x 11 columns]"
            ],
            "text/html": [
              "\n",
              "  <div id=\"df-83ba877f-2061-4f11-9bbb-b597101fd2f4\">\n",
              "    <div class=\"colab-df-container\">\n",
              "      <div>\n",
              "<style scoped>\n",
              "    .dataframe tbody tr th:only-of-type {\n",
              "        vertical-align: middle;\n",
              "    }\n",
              "\n",
              "    .dataframe tbody tr th {\n",
              "        vertical-align: top;\n",
              "    }\n",
              "\n",
              "    .dataframe thead th {\n",
              "        text-align: right;\n",
              "    }\n",
              "</style>\n",
              "<table border=\"1\" class=\"dataframe\">\n",
              "  <thead>\n",
              "    <tr style=\"text-align: right;\">\n",
              "      <th></th>\n",
              "      <th>Name</th>\n",
              "      <th>Price</th>\n",
              "      <th>Sales</th>\n",
              "      <th>Rating</th>\n",
              "      <th>Rating record</th>\n",
              "      <th>Date</th>\n",
              "      <th>Discount(%)</th>\n",
              "      <th>Category</th>\n",
              "      <th>Ini_cat</th>\n",
              "      <th>Group_ID</th>\n",
              "      <th>Product_ID</th>\n",
              "    </tr>\n",
              "  </thead>\n",
              "  <tbody>\n",
              "    <tr>\n",
              "      <th>0</th>\n",
              "      <td>Gel rửa mặt cà phê Đắk Lắk Cocoon cho làn da t...</td>\n",
              "      <td>195.00</td>\n",
              "      <td>175.0</td>\n",
              "      <td>4.9</td>\n",
              "      <td>64.0</td>\n",
              "      <td>2023-02-09</td>\n",
              "      <td>NaN</td>\n",
              "      <td>Coffee</td>\n",
              "      <td>C</td>\n",
              "      <td>4</td>\n",
              "      <td>C4</td>\n",
              "    </tr>\n",
              "    <tr>\n",
              "      <th>1</th>\n",
              "      <td>[DEAL 1 TẶNG 1 ĐỘC QUYỀN FLASH SALE] Bơ dưỡng ...</td>\n",
              "      <td>340.00</td>\n",
              "      <td>629.0</td>\n",
              "      <td></td>\n",
              "      <td>0.0</td>\n",
              "      <td>2023-02-09</td>\n",
              "      <td>NaN</td>\n",
              "      <td>Coffee</td>\n",
              "      <td>C</td>\n",
              "      <td>16</td>\n",
              "      <td>C16</td>\n",
              "    </tr>\n",
              "    <tr>\n",
              "      <th>2</th>\n",
              "      <td>Combo Sáng Mịn Sạch Mụn: 1 Gel tắm bí đao Coco...</td>\n",
              "      <td>351.00</td>\n",
              "      <td>1400.0</td>\n",
              "      <td>NaN</td>\n",
              "      <td>0.0</td>\n",
              "      <td>2023-02-09</td>\n",
              "      <td>NaN</td>\n",
              "      <td>Coffee</td>\n",
              "      <td>C</td>\n",
              "      <td>3</td>\n",
              "      <td>C3</td>\n",
              "    </tr>\n",
              "    <tr>\n",
              "      <th>3</th>\n",
              "      <td>[Mã COSCN12 giảm 8%] Bơ dưỡng thể cà phê Đắk L...</td>\n",
              "      <td>215.00</td>\n",
              "      <td>10500.0</td>\n",
              "      <td>5.0</td>\n",
              "      <td>4300.0</td>\n",
              "      <td>2023-02-09</td>\n",
              "      <td>NaN</td>\n",
              "      <td>Coffee</td>\n",
              "      <td>C</td>\n",
              "      <td>17</td>\n",
              "      <td>C17</td>\n",
              "    </tr>\n",
              "    <tr>\n",
              "      <th>4</th>\n",
              "      <td>[Mã COSCN12 giảm 8%] Combo làm sạch da chết và...</td>\n",
              "      <td>323.00</td>\n",
              "      <td>1600.0</td>\n",
              "      <td>5.0</td>\n",
              "      <td>576.0</td>\n",
              "      <td>2023-02-09</td>\n",
              "      <td>NaN</td>\n",
              "      <td>Coffee</td>\n",
              "      <td>C</td>\n",
              "      <td>19</td>\n",
              "      <td>C19</td>\n",
              "    </tr>\n",
              "    <tr>\n",
              "      <th>...</th>\n",
              "      <td>...</td>\n",
              "      <td>...</td>\n",
              "      <td>...</td>\n",
              "      <td>...</td>\n",
              "      <td>...</td>\n",
              "      <td>...</td>\n",
              "      <td>...</td>\n",
              "      <td>...</td>\n",
              "      <td>...</td>\n",
              "      <td>...</td>\n",
              "      <td>...</td>\n",
              "    </tr>\n",
              "    <tr>\n",
              "      <th>3656</th>\n",
              "      <td>[COMBO MUA 1 TẶNG 1 ÁP DỤNG 01/04-30/04] Kem c...</td>\n",
              "      <td>395.00</td>\n",
              "      <td>621.0</td>\n",
              "      <td>4,9</td>\n",
              "      <td>172.0</td>\n",
              "      <td>2023-04-15</td>\n",
              "      <td>43.0</td>\n",
              "      <td>Squash</td>\n",
              "      <td>S</td>\n",
              "      <td>20</td>\n",
              "      <td>S20</td>\n",
              "    </tr>\n",
              "    <tr>\n",
              "      <th>3657</th>\n",
              "      <td>[Mã COSCN12 giảm 8%] Bigsize - Nước bí đao cân...</td>\n",
              "      <td>250.75</td>\n",
              "      <td>5500.0</td>\n",
              "      <td>4,9</td>\n",
              "      <td>2000.0</td>\n",
              "      <td>2023-04-15</td>\n",
              "      <td>15.0</td>\n",
              "      <td>Squash</td>\n",
              "      <td>S</td>\n",
              "      <td>24</td>\n",
              "      <td>S24</td>\n",
              "    </tr>\n",
              "    <tr>\n",
              "      <th>3658</th>\n",
              "      <td>Tinh chất bí đao (serum) 7% Niacinamide sạch m...</td>\n",
              "      <td>250.75</td>\n",
              "      <td>4000.0</td>\n",
              "      <td>4,9</td>\n",
              "      <td>1400.0</td>\n",
              "      <td>2023-04-15</td>\n",
              "      <td>15.0</td>\n",
              "      <td>Squash</td>\n",
              "      <td>S</td>\n",
              "      <td>18</td>\n",
              "      <td>S18</td>\n",
              "    </tr>\n",
              "    <tr>\n",
              "      <th>3659</th>\n",
              "      <td>[Mã COSCN12 giảm 8%] Nước bí đao cân bằng da (...</td>\n",
              "      <td>165.75</td>\n",
              "      <td>17600.0</td>\n",
              "      <td>5</td>\n",
              "      <td>7400.0</td>\n",
              "      <td>2023-04-15</td>\n",
              "      <td>15.0</td>\n",
              "      <td>Squash</td>\n",
              "      <td>S</td>\n",
              "      <td>33</td>\n",
              "      <td>S33</td>\n",
              "    </tr>\n",
              "    <tr>\n",
              "      <th>3660</th>\n",
              "      <td>[Mã COSCN12 giảm 8%] Gel bí đao rửa mặt Cocoon...</td>\n",
              "      <td>NaN</td>\n",
              "      <td>27400.0</td>\n",
              "      <td>5</td>\n",
              "      <td>10500.0</td>\n",
              "      <td>2023-04-15</td>\n",
              "      <td>15.0</td>\n",
              "      <td>Squash</td>\n",
              "      <td>S</td>\n",
              "      <td>29</td>\n",
              "      <td>S29</td>\n",
              "    </tr>\n",
              "  </tbody>\n",
              "</table>\n",
              "<p>3661 rows × 11 columns</p>\n",
              "</div>\n",
              "      <button class=\"colab-df-convert\" onclick=\"convertToInteractive('df-83ba877f-2061-4f11-9bbb-b597101fd2f4')\"\n",
              "              title=\"Convert this dataframe to an interactive table.\"\n",
              "              style=\"display:none;\">\n",
              "        \n",
              "  <svg xmlns=\"http://www.w3.org/2000/svg\" height=\"24px\"viewBox=\"0 0 24 24\"\n",
              "       width=\"24px\">\n",
              "    <path d=\"M0 0h24v24H0V0z\" fill=\"none\"/>\n",
              "    <path d=\"M18.56 5.44l.94 2.06.94-2.06 2.06-.94-2.06-.94-.94-2.06-.94 2.06-2.06.94zm-11 1L8.5 8.5l.94-2.06 2.06-.94-2.06-.94L8.5 2.5l-.94 2.06-2.06.94zm10 10l.94 2.06.94-2.06 2.06-.94-2.06-.94-.94-2.06-.94 2.06-2.06.94z\"/><path d=\"M17.41 7.96l-1.37-1.37c-.4-.4-.92-.59-1.43-.59-.52 0-1.04.2-1.43.59L10.3 9.45l-7.72 7.72c-.78.78-.78 2.05 0 2.83L4 21.41c.39.39.9.59 1.41.59.51 0 1.02-.2 1.41-.59l7.78-7.78 2.81-2.81c.8-.78.8-2.07 0-2.86zM5.41 20L4 18.59l7.72-7.72 1.47 1.35L5.41 20z\"/>\n",
              "  </svg>\n",
              "      </button>\n",
              "      \n",
              "  <style>\n",
              "    .colab-df-container {\n",
              "      display:flex;\n",
              "      flex-wrap:wrap;\n",
              "      gap: 12px;\n",
              "    }\n",
              "\n",
              "    .colab-df-convert {\n",
              "      background-color: #E8F0FE;\n",
              "      border: none;\n",
              "      border-radius: 50%;\n",
              "      cursor: pointer;\n",
              "      display: none;\n",
              "      fill: #1967D2;\n",
              "      height: 32px;\n",
              "      padding: 0 0 0 0;\n",
              "      width: 32px;\n",
              "    }\n",
              "\n",
              "    .colab-df-convert:hover {\n",
              "      background-color: #E2EBFA;\n",
              "      box-shadow: 0px 1px 2px rgba(60, 64, 67, 0.3), 0px 1px 3px 1px rgba(60, 64, 67, 0.15);\n",
              "      fill: #174EA6;\n",
              "    }\n",
              "\n",
              "    [theme=dark] .colab-df-convert {\n",
              "      background-color: #3B4455;\n",
              "      fill: #D2E3FC;\n",
              "    }\n",
              "\n",
              "    [theme=dark] .colab-df-convert:hover {\n",
              "      background-color: #434B5C;\n",
              "      box-shadow: 0px 1px 3px 1px rgba(0, 0, 0, 0.15);\n",
              "      filter: drop-shadow(0px 1px 2px rgba(0, 0, 0, 0.3));\n",
              "      fill: #FFFFFF;\n",
              "    }\n",
              "  </style>\n",
              "\n",
              "      <script>\n",
              "        const buttonEl =\n",
              "          document.querySelector('#df-83ba877f-2061-4f11-9bbb-b597101fd2f4 button.colab-df-convert');\n",
              "        buttonEl.style.display =\n",
              "          google.colab.kernel.accessAllowed ? 'block' : 'none';\n",
              "\n",
              "        async function convertToInteractive(key) {\n",
              "          const element = document.querySelector('#df-83ba877f-2061-4f11-9bbb-b597101fd2f4');\n",
              "          const dataTable =\n",
              "            await google.colab.kernel.invokeFunction('convertToInteractive',\n",
              "                                                     [key], {});\n",
              "          if (!dataTable) return;\n",
              "\n",
              "          const docLinkHtml = 'Like what you see? Visit the ' +\n",
              "            '<a target=\"_blank\" href=https://colab.research.google.com/notebooks/data_table.ipynb>data table notebook</a>'\n",
              "            + ' to learn more about interactive tables.';\n",
              "          element.innerHTML = '';\n",
              "          dataTable['output_type'] = 'display_data';\n",
              "          await google.colab.output.renderOutput(dataTable, element);\n",
              "          const docLink = document.createElement('div');\n",
              "          docLink.innerHTML = docLinkHtml;\n",
              "          element.appendChild(docLink);\n",
              "        }\n",
              "      </script>\n",
              "    </div>\n",
              "  </div>\n",
              "  "
            ]
          },
          "metadata": {},
          "execution_count": 53
        }
      ]
    },
    {
      "cell_type": "code",
      "source": [
        "df['Rating'].value_counts()"
      ],
      "metadata": {
        "colab": {
          "base_uri": "https://localhost:8080/"
        },
        "id": "TgQcLHXr_vHf",
        "outputId": "a333778e-30f7-4af6-a02a-f9d93ef04067"
      },
      "execution_count": 57,
      "outputs": [
        {
          "output_type": "execute_result",
          "data": {
            "text/plain": [
              "0.0    2006\n",
              "5.0    1312\n",
              "4.9     330\n",
              "4.0      11\n",
              "4.7       2\n",
              "Name: Rating, dtype: int64"
            ]
          },
          "metadata": {},
          "execution_count": 57
        }
      ]
    },
    {
      "cell_type": "markdown",
      "source": [
        "# 8) Check data information for final result\n"
      ],
      "metadata": {
        "id": "06FcTtUz6iC7"
      }
    },
    {
      "cell_type": "code",
      "source": [
        "df1= pd.read_csv('Preprocessed_data.csv')"
      ],
      "metadata": {
        "id": "dBgAlHeBfNxK"
      },
      "execution_count": 67,
      "outputs": []
    },
    {
      "cell_type": "code",
      "source": [
        "#print(df.describe())\n",
        "df.describe()"
      ],
      "metadata": {
        "id": "rV7MNqR4enbr",
        "colab": {
          "base_uri": "https://localhost:8080/"
        },
        "outputId": "07478c3f-a8cc-445e-d208-f874eab54c2b"
      },
      "execution_count": null,
      "outputs": [
        {
          "output_type": "execute_result",
          "data": {
            "text/plain": [
              "                                                     Name     Price Sales  \\\n",
              "count                                                3694      3619  3661   \n",
              "unique                                                119       142   763   \n",
              "top     Thạch nghệ Hưng Yên giúp làm sáng da và mờ thâ...  ₫195.000  1,1k   \n",
              "freq                                                   68       420    62   \n",
              "\n",
              "                                                      URL Rating  \\\n",
              "count                                                3826   3586   \n",
              "unique                                               3012     13   \n",
              "top     https://shopee.vn/-M%C3%A3-COSCN12-gi%E1%BA%A3...    4,9   \n",
              "freq                                                    4   1790   \n",
              "\n",
              "       Rating record       Date  Discount  \n",
              "count           3574       3826       563  \n",
              "unique           596         68         9  \n",
              "top             1,9k  4/14/2023  15% giảm  \n",
              "freq             110        138       433  "
            ],
            "text/html": [
              "\n",
              "  <div id=\"df-34302d81-70d1-46e7-9e69-a3fd22bb0a4a\">\n",
              "    <div class=\"colab-df-container\">\n",
              "      <div>\n",
              "<style scoped>\n",
              "    .dataframe tbody tr th:only-of-type {\n",
              "        vertical-align: middle;\n",
              "    }\n",
              "\n",
              "    .dataframe tbody tr th {\n",
              "        vertical-align: top;\n",
              "    }\n",
              "\n",
              "    .dataframe thead th {\n",
              "        text-align: right;\n",
              "    }\n",
              "</style>\n",
              "<table border=\"1\" class=\"dataframe\">\n",
              "  <thead>\n",
              "    <tr style=\"text-align: right;\">\n",
              "      <th></th>\n",
              "      <th>Name</th>\n",
              "      <th>Price</th>\n",
              "      <th>Sales</th>\n",
              "      <th>URL</th>\n",
              "      <th>Rating</th>\n",
              "      <th>Rating record</th>\n",
              "      <th>Date</th>\n",
              "      <th>Discount</th>\n",
              "    </tr>\n",
              "  </thead>\n",
              "  <tbody>\n",
              "    <tr>\n",
              "      <th>count</th>\n",
              "      <td>3694</td>\n",
              "      <td>3619</td>\n",
              "      <td>3661</td>\n",
              "      <td>3826</td>\n",
              "      <td>3586</td>\n",
              "      <td>3574</td>\n",
              "      <td>3826</td>\n",
              "      <td>563</td>\n",
              "    </tr>\n",
              "    <tr>\n",
              "      <th>unique</th>\n",
              "      <td>119</td>\n",
              "      <td>142</td>\n",
              "      <td>763</td>\n",
              "      <td>3012</td>\n",
              "      <td>13</td>\n",
              "      <td>596</td>\n",
              "      <td>68</td>\n",
              "      <td>9</td>\n",
              "    </tr>\n",
              "    <tr>\n",
              "      <th>top</th>\n",
              "      <td>Thạch nghệ Hưng Yên giúp làm sáng da và mờ thâ...</td>\n",
              "      <td>₫195.000</td>\n",
              "      <td>1,1k</td>\n",
              "      <td>https://shopee.vn/-M%C3%A3-COSCN12-gi%E1%BA%A3...</td>\n",
              "      <td>4,9</td>\n",
              "      <td>1,9k</td>\n",
              "      <td>4/14/2023</td>\n",
              "      <td>15% giảm</td>\n",
              "    </tr>\n",
              "    <tr>\n",
              "      <th>freq</th>\n",
              "      <td>68</td>\n",
              "      <td>420</td>\n",
              "      <td>62</td>\n",
              "      <td>4</td>\n",
              "      <td>1790</td>\n",
              "      <td>110</td>\n",
              "      <td>138</td>\n",
              "      <td>433</td>\n",
              "    </tr>\n",
              "  </tbody>\n",
              "</table>\n",
              "</div>\n",
              "      <button class=\"colab-df-convert\" onclick=\"convertToInteractive('df-34302d81-70d1-46e7-9e69-a3fd22bb0a4a')\"\n",
              "              title=\"Convert this dataframe to an interactive table.\"\n",
              "              style=\"display:none;\">\n",
              "        \n",
              "  <svg xmlns=\"http://www.w3.org/2000/svg\" height=\"24px\"viewBox=\"0 0 24 24\"\n",
              "       width=\"24px\">\n",
              "    <path d=\"M0 0h24v24H0V0z\" fill=\"none\"/>\n",
              "    <path d=\"M18.56 5.44l.94 2.06.94-2.06 2.06-.94-2.06-.94-.94-2.06-.94 2.06-2.06.94zm-11 1L8.5 8.5l.94-2.06 2.06-.94-2.06-.94L8.5 2.5l-.94 2.06-2.06.94zm10 10l.94 2.06.94-2.06 2.06-.94-2.06-.94-.94-2.06-.94 2.06-2.06.94z\"/><path d=\"M17.41 7.96l-1.37-1.37c-.4-.4-.92-.59-1.43-.59-.52 0-1.04.2-1.43.59L10.3 9.45l-7.72 7.72c-.78.78-.78 2.05 0 2.83L4 21.41c.39.39.9.59 1.41.59.51 0 1.02-.2 1.41-.59l7.78-7.78 2.81-2.81c.8-.78.8-2.07 0-2.86zM5.41 20L4 18.59l7.72-7.72 1.47 1.35L5.41 20z\"/>\n",
              "  </svg>\n",
              "      </button>\n",
              "      \n",
              "  <style>\n",
              "    .colab-df-container {\n",
              "      display:flex;\n",
              "      flex-wrap:wrap;\n",
              "      gap: 12px;\n",
              "    }\n",
              "\n",
              "    .colab-df-convert {\n",
              "      background-color: #E8F0FE;\n",
              "      border: none;\n",
              "      border-radius: 50%;\n",
              "      cursor: pointer;\n",
              "      display: none;\n",
              "      fill: #1967D2;\n",
              "      height: 32px;\n",
              "      padding: 0 0 0 0;\n",
              "      width: 32px;\n",
              "    }\n",
              "\n",
              "    .colab-df-convert:hover {\n",
              "      background-color: #E2EBFA;\n",
              "      box-shadow: 0px 1px 2px rgba(60, 64, 67, 0.3), 0px 1px 3px 1px rgba(60, 64, 67, 0.15);\n",
              "      fill: #174EA6;\n",
              "    }\n",
              "\n",
              "    [theme=dark] .colab-df-convert {\n",
              "      background-color: #3B4455;\n",
              "      fill: #D2E3FC;\n",
              "    }\n",
              "\n",
              "    [theme=dark] .colab-df-convert:hover {\n",
              "      background-color: #434B5C;\n",
              "      box-shadow: 0px 1px 3px 1px rgba(0, 0, 0, 0.15);\n",
              "      filter: drop-shadow(0px 1px 2px rgba(0, 0, 0, 0.3));\n",
              "      fill: #FFFFFF;\n",
              "    }\n",
              "  </style>\n",
              "\n",
              "      <script>\n",
              "        const buttonEl =\n",
              "          document.querySelector('#df-34302d81-70d1-46e7-9e69-a3fd22bb0a4a button.colab-df-convert');\n",
              "        buttonEl.style.display =\n",
              "          google.colab.kernel.accessAllowed ? 'block' : 'none';\n",
              "\n",
              "        async function convertToInteractive(key) {\n",
              "          const element = document.querySelector('#df-34302d81-70d1-46e7-9e69-a3fd22bb0a4a');\n",
              "          const dataTable =\n",
              "            await google.colab.kernel.invokeFunction('convertToInteractive',\n",
              "                                                     [key], {});\n",
              "          if (!dataTable) return;\n",
              "\n",
              "          const docLinkHtml = 'Like what you see? Visit the ' +\n",
              "            '<a target=\"_blank\" href=https://colab.research.google.com/notebooks/data_table.ipynb>data table notebook</a>'\n",
              "            + ' to learn more about interactive tables.';\n",
              "          element.innerHTML = '';\n",
              "          dataTable['output_type'] = 'display_data';\n",
              "          await google.colab.output.renderOutput(dataTable, element);\n",
              "          const docLink = document.createElement('div');\n",
              "          docLink.innerHTML = docLinkHtml;\n",
              "          element.appendChild(docLink);\n",
              "        }\n",
              "      </script>\n",
              "    </div>\n",
              "  </div>\n",
              "  "
            ]
          },
          "metadata": {},
          "execution_count": 153
        }
      ]
    },
    {
      "cell_type": "code",
      "source": [
        "df1.info()"
      ],
      "metadata": {
        "id": "EXEyb3yVg7Qq",
        "colab": {
          "base_uri": "https://localhost:8080/"
        },
        "outputId": "1a3054c2-757f-4e65-842f-8bcc239f3d24"
      },
      "execution_count": 71,
      "outputs": [
        {
          "output_type": "stream",
          "name": "stdout",
          "text": [
            "<class 'pandas.core.frame.DataFrame'>\n",
            "RangeIndex: 3661 entries, 0 to 3660\n",
            "Data columns (total 10 columns):\n",
            " #   Column         Non-Null Count  Dtype  \n",
            "---  ------         --------------  -----  \n",
            " 0   Name           3661 non-null   object \n",
            " 1   Price          3585 non-null   float64\n",
            " 2   Sales          3661 non-null   object \n",
            " 3   Rating         3661 non-null   float64\n",
            " 4   Rating record  3661 non-null   float64\n",
            " 5   Date           3660 non-null   object \n",
            " 6   Discount(%)    533 non-null    float64\n",
            " 7   Category       3661 non-null   object \n",
            " 8   Ini_cat        3661 non-null   object \n",
            " 9   Product_ID     3661 non-null   object \n",
            "dtypes: float64(4), object(6)\n",
            "memory usage: 286.1+ KB\n"
          ]
        }
      ]
    },
    {
      "cell_type": "code",
      "source": [
        "print(df1.columns)"
      ],
      "metadata": {
        "id": "vSXysbUniUmf",
        "colab": {
          "base_uri": "https://localhost:8080/"
        },
        "outputId": "3b5e7dfb-12a3-4675-d246-dceb6756f2aa"
      },
      "execution_count": null,
      "outputs": [
        {
          "output_type": "stream",
          "name": "stdout",
          "text": [
            "Index(['Unnamed: 0', 'Name', 'Price', 'Sales', 'Rating', 'Rating record',\n",
            "       'Date', 'Discount(%)', 'Category', 'Ini_cat', 'Group_ID', 'Product_ID'],\n",
            "      dtype='object')\n"
          ]
        }
      ]
    },
    {
      "cell_type": "code",
      "source": [
        "df1=df1.drop(columns=['Unnamed: 0','Group_ID'])"
      ],
      "metadata": {
        "id": "NYFAv0ahhG3Y"
      },
      "execution_count": 69,
      "outputs": []
    },
    {
      "cell_type": "code",
      "source": [
        "# specify a formatting function that converts the scientific notation to a fixed-point notation\n",
        "pd.options.display.float_format = '{:.2f}'.format\n",
        "# Rename the columns to include count, std, and mean\n",
        "stats = df1.describe()\n",
        "#save result of statiscal dataset information into csv file \n",
        "stats.to_csv(\"Statiscal result.csv\", index= True)\n",
        "stats"
      ],
      "metadata": {
        "id": "cbSQ0U_kfHzp",
        "colab": {
          "base_uri": "https://localhost:8080/",
          "height": 0
        },
        "outputId": "611714a3-de69-4566-e3a5-bbf39329cb3d"
      },
      "execution_count": 70,
      "outputs": [
        {
          "output_type": "execute_result",
          "data": {
            "text/plain": [
              "        Price  Rating  Rating record  Discount(%)\n",
              "count 3585.00 3661.00        3661.00       533.00\n",
              "mean   290.10    2.25         149.41        17.36\n",
              "std    147.94    2.48         215.42         6.69\n",
              "min     60.00    0.00           0.00         5.00\n",
              "25%    195.00    0.00          19.00        15.00\n",
              "50%    289.00    0.00          46.00        15.00\n",
              "75%    345.00    5.00         190.00        15.00\n",
              "max    955.00    5.00        1248.00        48.00"
            ],
            "text/html": [
              "\n",
              "  <div id=\"df-a8f6529f-06bd-480c-b44d-7783f2e39194\">\n",
              "    <div class=\"colab-df-container\">\n",
              "      <div>\n",
              "<style scoped>\n",
              "    .dataframe tbody tr th:only-of-type {\n",
              "        vertical-align: middle;\n",
              "    }\n",
              "\n",
              "    .dataframe tbody tr th {\n",
              "        vertical-align: top;\n",
              "    }\n",
              "\n",
              "    .dataframe thead th {\n",
              "        text-align: right;\n",
              "    }\n",
              "</style>\n",
              "<table border=\"1\" class=\"dataframe\">\n",
              "  <thead>\n",
              "    <tr style=\"text-align: right;\">\n",
              "      <th></th>\n",
              "      <th>Price</th>\n",
              "      <th>Rating</th>\n",
              "      <th>Rating record</th>\n",
              "      <th>Discount(%)</th>\n",
              "    </tr>\n",
              "  </thead>\n",
              "  <tbody>\n",
              "    <tr>\n",
              "      <th>count</th>\n",
              "      <td>3585.00</td>\n",
              "      <td>3661.00</td>\n",
              "      <td>3661.00</td>\n",
              "      <td>533.00</td>\n",
              "    </tr>\n",
              "    <tr>\n",
              "      <th>mean</th>\n",
              "      <td>290.10</td>\n",
              "      <td>2.25</td>\n",
              "      <td>149.41</td>\n",
              "      <td>17.36</td>\n",
              "    </tr>\n",
              "    <tr>\n",
              "      <th>std</th>\n",
              "      <td>147.94</td>\n",
              "      <td>2.48</td>\n",
              "      <td>215.42</td>\n",
              "      <td>6.69</td>\n",
              "    </tr>\n",
              "    <tr>\n",
              "      <th>min</th>\n",
              "      <td>60.00</td>\n",
              "      <td>0.00</td>\n",
              "      <td>0.00</td>\n",
              "      <td>5.00</td>\n",
              "    </tr>\n",
              "    <tr>\n",
              "      <th>25%</th>\n",
              "      <td>195.00</td>\n",
              "      <td>0.00</td>\n",
              "      <td>19.00</td>\n",
              "      <td>15.00</td>\n",
              "    </tr>\n",
              "    <tr>\n",
              "      <th>50%</th>\n",
              "      <td>289.00</td>\n",
              "      <td>0.00</td>\n",
              "      <td>46.00</td>\n",
              "      <td>15.00</td>\n",
              "    </tr>\n",
              "    <tr>\n",
              "      <th>75%</th>\n",
              "      <td>345.00</td>\n",
              "      <td>5.00</td>\n",
              "      <td>190.00</td>\n",
              "      <td>15.00</td>\n",
              "    </tr>\n",
              "    <tr>\n",
              "      <th>max</th>\n",
              "      <td>955.00</td>\n",
              "      <td>5.00</td>\n",
              "      <td>1248.00</td>\n",
              "      <td>48.00</td>\n",
              "    </tr>\n",
              "  </tbody>\n",
              "</table>\n",
              "</div>\n",
              "      <button class=\"colab-df-convert\" onclick=\"convertToInteractive('df-a8f6529f-06bd-480c-b44d-7783f2e39194')\"\n",
              "              title=\"Convert this dataframe to an interactive table.\"\n",
              "              style=\"display:none;\">\n",
              "        \n",
              "  <svg xmlns=\"http://www.w3.org/2000/svg\" height=\"24px\"viewBox=\"0 0 24 24\"\n",
              "       width=\"24px\">\n",
              "    <path d=\"M0 0h24v24H0V0z\" fill=\"none\"/>\n",
              "    <path d=\"M18.56 5.44l.94 2.06.94-2.06 2.06-.94-2.06-.94-.94-2.06-.94 2.06-2.06.94zm-11 1L8.5 8.5l.94-2.06 2.06-.94-2.06-.94L8.5 2.5l-.94 2.06-2.06.94zm10 10l.94 2.06.94-2.06 2.06-.94-2.06-.94-.94-2.06-.94 2.06-2.06.94z\"/><path d=\"M17.41 7.96l-1.37-1.37c-.4-.4-.92-.59-1.43-.59-.52 0-1.04.2-1.43.59L10.3 9.45l-7.72 7.72c-.78.78-.78 2.05 0 2.83L4 21.41c.39.39.9.59 1.41.59.51 0 1.02-.2 1.41-.59l7.78-7.78 2.81-2.81c.8-.78.8-2.07 0-2.86zM5.41 20L4 18.59l7.72-7.72 1.47 1.35L5.41 20z\"/>\n",
              "  </svg>\n",
              "      </button>\n",
              "      \n",
              "  <style>\n",
              "    .colab-df-container {\n",
              "      display:flex;\n",
              "      flex-wrap:wrap;\n",
              "      gap: 12px;\n",
              "    }\n",
              "\n",
              "    .colab-df-convert {\n",
              "      background-color: #E8F0FE;\n",
              "      border: none;\n",
              "      border-radius: 50%;\n",
              "      cursor: pointer;\n",
              "      display: none;\n",
              "      fill: #1967D2;\n",
              "      height: 32px;\n",
              "      padding: 0 0 0 0;\n",
              "      width: 32px;\n",
              "    }\n",
              "\n",
              "    .colab-df-convert:hover {\n",
              "      background-color: #E2EBFA;\n",
              "      box-shadow: 0px 1px 2px rgba(60, 64, 67, 0.3), 0px 1px 3px 1px rgba(60, 64, 67, 0.15);\n",
              "      fill: #174EA6;\n",
              "    }\n",
              "\n",
              "    [theme=dark] .colab-df-convert {\n",
              "      background-color: #3B4455;\n",
              "      fill: #D2E3FC;\n",
              "    }\n",
              "\n",
              "    [theme=dark] .colab-df-convert:hover {\n",
              "      background-color: #434B5C;\n",
              "      box-shadow: 0px 1px 3px 1px rgba(0, 0, 0, 0.15);\n",
              "      filter: drop-shadow(0px 1px 2px rgba(0, 0, 0, 0.3));\n",
              "      fill: #FFFFFF;\n",
              "    }\n",
              "  </style>\n",
              "\n",
              "      <script>\n",
              "        const buttonEl =\n",
              "          document.querySelector('#df-a8f6529f-06bd-480c-b44d-7783f2e39194 button.colab-df-convert');\n",
              "        buttonEl.style.display =\n",
              "          google.colab.kernel.accessAllowed ? 'block' : 'none';\n",
              "\n",
              "        async function convertToInteractive(key) {\n",
              "          const element = document.querySelector('#df-a8f6529f-06bd-480c-b44d-7783f2e39194');\n",
              "          const dataTable =\n",
              "            await google.colab.kernel.invokeFunction('convertToInteractive',\n",
              "                                                     [key], {});\n",
              "          if (!dataTable) return;\n",
              "\n",
              "          const docLinkHtml = 'Like what you see? Visit the ' +\n",
              "            '<a target=\"_blank\" href=https://colab.research.google.com/notebooks/data_table.ipynb>data table notebook</a>'\n",
              "            + ' to learn more about interactive tables.';\n",
              "          element.innerHTML = '';\n",
              "          dataTable['output_type'] = 'display_data';\n",
              "          await google.colab.output.renderOutput(dataTable, element);\n",
              "          const docLink = document.createElement('div');\n",
              "          docLink.innerHTML = docLinkHtml;\n",
              "          element.appendChild(docLink);\n",
              "        }\n",
              "      </script>\n",
              "    </div>\n",
              "  </div>\n",
              "  "
            ]
          },
          "metadata": {},
          "execution_count": 70
        }
      ]
    }
  ]
}