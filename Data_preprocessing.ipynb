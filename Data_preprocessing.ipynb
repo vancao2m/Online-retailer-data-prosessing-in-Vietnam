{
  "nbformat": 4,
  "nbformat_minor": 0,
  "metadata": {
    "colab": {
      "provenance": [],
      "collapsed_sections": [
        "Sd6BhoG233ZT",
        "wXaJQlfx4VZD",
        "vj8odIl6BucF"
      ],
      "toc_visible": true
    },
    "kernelspec": {
      "name": "python3",
      "display_name": "Python 3"
    },
    "language_info": {
      "name": "python"
    }
  },
  "cells": [
    {
      "cell_type": "markdown",
      "source": [
        "# 1) Import packages and data"
      ],
      "metadata": {
        "id": "bvUTq04G3tTx"
      }
    },
    {
      "cell_type": "code",
      "execution_count": 1,
      "metadata": {
        "id": "VH6IbW8BRFmz"
      },
      "outputs": [],
      "source": [
        "import numpy as np # linear algebra\n",
        "import pandas as pd # data processing, CSV file I/O (e.g. pd.read_csv)\n",
        "import matplotlib.pyplot as plt # data visualization\n",
        "import seaborn as sns # statistical data visualization\n",
        "%matplotlib inline"
      ]
    },
    {
      "cell_type": "code",
      "source": [
        "import warnings\n",
        "\n",
        "warnings.filterwarnings('ignore')"
      ],
      "metadata": {
        "id": "Syof6twZRyCK"
      },
      "execution_count": 2,
      "outputs": []
    },
    {
      "cell_type": "code",
      "source": [
        "# get data from drive\n",
        "from google.colab import drive\n",
        "drive.mount('/content/drive')"
      ],
      "metadata": {
        "colab": {
          "base_uri": "https://localhost:8080/"
        },
        "id": "FtcvwBszR27a",
        "outputId": "85eef013-8f85-4de9-8bc3-f8054c3a7423"
      },
      "execution_count": 3,
      "outputs": [
        {
          "output_type": "stream",
          "name": "stdout",
          "text": [
            "Mounted at /content/drive\n"
          ]
        }
      ]
    },
    {
      "cell_type": "code",
      "source": [
        "%cd /content/drive/My Drive/Colab Notebooks/"
      ],
      "metadata": {
        "colab": {
          "base_uri": "https://localhost:8080/"
        },
        "id": "RWeyEUPxShyx",
        "outputId": "a3578881-0b55-4db8-e51e-04a731959e76"
      },
      "execution_count": 4,
      "outputs": [
        {
          "output_type": "stream",
          "name": "stdout",
          "text": [
            "/content/drive/My Drive/Colab Notebooks\n"
          ]
        }
      ]
    },
    {
      "cell_type": "code",
      "source": [
        "df = pd.read_csv('Cocoon_official_15042023.csv')"
      ],
      "metadata": {
        "id": "OmrAvxpASkYj"
      },
      "execution_count": 5,
      "outputs": []
    },
    {
      "cell_type": "code",
      "source": [
        "df.info()"
      ],
      "metadata": {
        "colab": {
          "base_uri": "https://localhost:8080/"
        },
        "id": "5jHh_CDq5XxQ",
        "outputId": "ccb3bb35-3a2e-407f-9a6b-6fce91e6b405"
      },
      "execution_count": 6,
      "outputs": [
        {
          "output_type": "stream",
          "name": "stdout",
          "text": [
            "<class 'pandas.core.frame.DataFrame'>\n",
            "RangeIndex: 3826 entries, 0 to 3825\n",
            "Data columns (total 8 columns):\n",
            " #   Column         Non-Null Count  Dtype \n",
            "---  ------         --------------  ----- \n",
            " 0   Name           3694 non-null   object\n",
            " 1   Price          3619 non-null   object\n",
            " 2   Sales          3661 non-null   object\n",
            " 3   URL            3826 non-null   object\n",
            " 4   Rating         3586 non-null   object\n",
            " 5   Rating record  3574 non-null   object\n",
            " 6   Date           3826 non-null   object\n",
            " 7   Discount       563 non-null    object\n",
            "dtypes: object(8)\n",
            "memory usage: 239.2+ KB\n"
          ]
        }
      ]
    },
    {
      "cell_type": "markdown",
      "source": [
        "# 2) Simple processing on null and unnecessary data"
      ],
      "metadata": {
        "id": "Sd6BhoG233ZT"
      }
    },
    {
      "cell_type": "markdown",
      "source": [
        "1) Eliminate 'URL' column as I will not be needing it in the future"
      ],
      "metadata": {
        "id": "zle7pcFEVc27"
      }
    },
    {
      "cell_type": "code",
      "source": [
        "df=df.drop(columns=['URL'])"
      ],
      "metadata": {
        "id": "yJkQ3bWOTAso"
      },
      "execution_count": 7,
      "outputs": []
    },
    {
      "cell_type": "markdown",
      "source": [
        "2) Filter to eliminate null value in \"Name\". For sales data, later on, it will use filter code which is only aplicaple with nonnull data (step 4)"
      ],
      "metadata": {
        "id": "79rC6hjZVvIK"
      }
    },
    {
      "cell_type": "code",
      "source": [
        "df = df.dropna(subset=['Name', 'Sales'])"
      ],
      "metadata": {
        "id": "0oM0c2V0VEzi"
      },
      "execution_count": 8,
      "outputs": []
    },
    {
      "cell_type": "code",
      "source": [
        "df = df.dropna(subset=['Name'])"
      ],
      "metadata": {
        "id": "vBmX6KlUvtj6"
      },
      "execution_count": 9,
      "outputs": []
    },
    {
      "cell_type": "code",
      "source": [
        "print(df)"
      ],
      "metadata": {
        "id": "fOWPfWQLVTli",
        "colab": {
          "base_uri": "https://localhost:8080/"
        },
        "outputId": "0c973312-99c2-4eac-bd62-f2f8e874d60a"
      },
      "execution_count": 10,
      "outputs": [
        {
          "output_type": "stream",
          "name": "stdout",
          "text": [
            "                                                   Name     Price  \\\n",
            "0     HÀNG TẶNG KHÔNG BÁN - Gel rửa mặt cà phê Đắk L...       195   \n",
            "1     Gel rửa mặt cà phê Đắk Lắk Cocoon cho làn da t...       195   \n",
            "2     [DEAL 1 TẶNG 1 ĐỘC QUYỀN FLASH SALE] Bơ dưỡng ...       340   \n",
            "3     Combo Sáng Mịn Sạch Mụn: 1 Gel tắm bí đao Coco...       351   \n",
            "4     [Mã COSCN12 giảm 8%] Bơ dưỡng thể cà phê Đắk L...       215   \n",
            "...                                                 ...       ...   \n",
            "3821  [Mã COSCN12 giảm 8%] Bigsize - Nước tẩy trang ...  ₫250.750   \n",
            "3822  [Mã COSCN12 giảm 8%] Bigsize - Thạch hoa hồng ...  ₫327.250   \n",
            "3823  [Mã COSCN12 giảm 8%] Nước hoa hồng (toner) Coc...  ₫165.750   \n",
            "3824  [Mã COSCN12 giảm 8%] Tinh chất hoa hồng (serum...  ₫225.250   \n",
            "3825  [Mã COSCN12 giảm 8%] Thạch hoa hồng dưỡng ẩm (...  ₫165.750   \n",
            "\n",
            "             Sales Rating Rating record       Date  Discount  \n",
            "0                     NaN           NaN   2/9/2023       NaN  \n",
            "1       Đã bán 175    4.9            64   2/9/2023       NaN  \n",
            "2       Đã bán 629                        2/9/2023       NaN  \n",
            "3      Đã bán 1,4k    NaN           NaN   2/9/2023       NaN  \n",
            "4     Đã bán 10,5k      5          4,3k   2/9/2023       NaN  \n",
            "...            ...    ...           ...        ...       ...  \n",
            "3821          8,9k    4,9          3,2k  4/15/2023  15% giảm  \n",
            "3822          6,9k    4,9          2,5k  4/15/2023  15% giảm  \n",
            "3823         13,1k      5          4,8k  4/15/2023  15% giảm  \n",
            "3824            4k      5          1,5k  4/15/2023  15% giảm  \n",
            "3825         16,4k      5          6,7k  4/15/2023  15% giảm  \n",
            "\n",
            "[3661 rows x 7 columns]\n"
          ]
        }
      ]
    },
    {
      "cell_type": "code",
      "source": [
        "# check if df reach needed non-null features and check for type of data for the next step\n",
        "df.info()\n",
        "df.isnull().sum()"
      ],
      "metadata": {
        "id": "0Dzoc6zSWe9B",
        "colab": {
          "base_uri": "https://localhost:8080/"
        },
        "outputId": "26d9f6ba-f30c-43d9-8890-2349e2ec1114"
      },
      "execution_count": 11,
      "outputs": [
        {
          "output_type": "stream",
          "name": "stdout",
          "text": [
            "<class 'pandas.core.frame.DataFrame'>\n",
            "Int64Index: 3661 entries, 0 to 3825\n",
            "Data columns (total 7 columns):\n",
            " #   Column         Non-Null Count  Dtype \n",
            "---  ------         --------------  ----- \n",
            " 0   Name           3661 non-null   object\n",
            " 1   Price          3586 non-null   object\n",
            " 2   Sales          3661 non-null   object\n",
            " 3   Rating         3583 non-null   object\n",
            " 4   Rating record  3571 non-null   object\n",
            " 5   Date           3661 non-null   object\n",
            " 6   Discount       534 non-null    object\n",
            "dtypes: object(7)\n",
            "memory usage: 228.8+ KB\n"
          ]
        },
        {
          "output_type": "execute_result",
          "data": {
            "text/plain": [
              "Name                0\n",
              "Price              75\n",
              "Sales               0\n",
              "Rating             78\n",
              "Rating record      90\n",
              "Date                0\n",
              "Discount         3127\n",
              "dtype: int64"
            ]
          },
          "metadata": {},
          "execution_count": 11
        }
      ]
    },
    {
      "cell_type": "markdown",
      "source": [
        "# 3) Date"
      ],
      "metadata": {
        "id": "wXaJQlfx4VZD"
      }
    },
    {
      "cell_type": "code",
      "source": [
        "from datetime import datetime\n",
        "# filter dataframe into two subset right_dates and error_dates, which are date in the right format \"mm/dd/yyyy\" and those aren't \n",
        "e_dates = pd.to_datetime(df['Date'], format='%m/%d/%Y', errors='coerce').isna()\n",
        "error_dates = df[e_dates]\n",
        "\n",
        "r_dates = pd.to_datetime(df['Date'], format='%m/%d/%Y', errors='coerce').notna()\n",
        "right_dates = df[r_dates]\n",
        "\n",
        "#change date in wrong format to right format\n",
        "error_dates['Date'] = pd.to_datetime(error_dates['Date'], format='%d/%m/%Y').dt.strftime('%m/%d/%Y')\n",
        "\n",
        "#combine subset back to one original one\n",
        "df = pd.concat([error_dates, right_dates], ignore_index=True)"
      ],
      "metadata": {
        "id": "EmH1h0K1w9Zw"
      },
      "execution_count": 12,
      "outputs": []
    },
    {
      "cell_type": "markdown",
      "source": [
        "# 4) Sales"
      ],
      "metadata": {
        "id": "YfDdwnpe4ZkM"
      }
    },
    {
      "cell_type": "markdown",
      "source": [
        "4.1) Remove \"Da ban\" part in \"Sales\" and  to make \"Sales\" in the same structure."
      ],
      "metadata": {
        "id": "kk-AUHXSEFny"
      }
    },
    {
      "cell_type": "code",
      "source": [
        "da_ban_data = df[df['Sales'].str.startswith('Đã bán')]\n",
        "non_da_ban_data = df[~df['Sales'].str.startswith('Đã bán')]\n",
        "# remove \"Đã bán\" part from beginning of each string\n",
        "da_ban_data['Sales'] = da_ban_data['Sales'].str.replace('Đã bán', '')\n",
        "# merge filtered dataset back into original dataset\n",
        "df = pd.concat([da_ban_data, non_da_ban_data], ignore_index=True)"
      ],
      "metadata": {
        "id": "Sfy6_VOLCsvS"
      },
      "execution_count": 13,
      "outputs": []
    },
    {
      "cell_type": "markdown",
      "source": [
        "4.2) turn \"k\" to thousands and change data type (to make \"Sales\" in the same type and structure)"
      ],
      "metadata": {
        "id": "HeqYR8DoEv-a"
      }
    },
    {
      "cell_type": "code",
      "source": [
        "def convert_to_numeric(strings):\n",
        "    if \"k\" in strings:\n",
        "        num = float(strings.replace(\"k\", \"\").replace(',', '.'))*1000\n",
        "        return num\n",
        "    else:\n",
        "        return strings\n",
        "df['Sales'] = df['Sales'].apply(convert_to_numeric)\n",
        "# there are data that is empty string as initially it can be \"Da ban\" with no sale number\n",
        "# therefore, replace those with a valid value or remove the row entirely and change column type to numeric\n",
        "df['Sales'] = pd.to_numeric(df['Sales'], errors='coerce').fillna(0)"
      ],
      "metadata": {
        "id": "h7W7W40sNR22"
      },
      "execution_count": 14,
      "outputs": []
    },
    {
      "cell_type": "code",
      "source": [
        "df.info()"
      ],
      "metadata": {
        "id": "Aurr1RO7__dq",
        "colab": {
          "base_uri": "https://localhost:8080/"
        },
        "outputId": "4924ed02-6464-4ba5-fb56-b76f21d0e491"
      },
      "execution_count": 15,
      "outputs": [
        {
          "output_type": "stream",
          "name": "stdout",
          "text": [
            "<class 'pandas.core.frame.DataFrame'>\n",
            "RangeIndex: 3661 entries, 0 to 3660\n",
            "Data columns (total 7 columns):\n",
            " #   Column         Non-Null Count  Dtype  \n",
            "---  ------         --------------  -----  \n",
            " 0   Name           3661 non-null   object \n",
            " 1   Price          3586 non-null   object \n",
            " 2   Sales          3661 non-null   float64\n",
            " 3   Rating         3583 non-null   object \n",
            " 4   Rating record  3571 non-null   object \n",
            " 5   Date           3661 non-null   object \n",
            " 6   Discount       534 non-null    object \n",
            "dtypes: float64(1), object(6)\n",
            "memory usage: 200.3+ KB\n"
          ]
        }
      ]
    },
    {
      "cell_type": "code",
      "source": [
        "# print the names of the products with sales equal to 0\n",
        "zero_sales = df[df[\"Sales\"] == 0.0]\n",
        "zero_sales.info()"
      ],
      "metadata": {
        "colab": {
          "base_uri": "https://localhost:8080/"
        },
        "id": "uDqbRGzawO6g",
        "outputId": "699c4777-5f4c-4ba8-bfd8-07725a796d47"
      },
      "execution_count": 16,
      "outputs": [
        {
          "output_type": "stream",
          "name": "stdout",
          "text": [
            "<class 'pandas.core.frame.DataFrame'>\n",
            "Int64Index: 60 entries, 356 to 2906\n",
            "Data columns (total 7 columns):\n",
            " #   Column         Non-Null Count  Dtype  \n",
            "---  ------         --------------  -----  \n",
            " 0   Name           60 non-null     object \n",
            " 1   Price          60 non-null     object \n",
            " 2   Sales          60 non-null     float64\n",
            " 3   Rating         25 non-null     object \n",
            " 4   Rating record  24 non-null     object \n",
            " 5   Date           60 non-null     object \n",
            " 6   Discount       6 non-null      object \n",
            "dtypes: float64(1), object(6)\n",
            "memory usage: 3.8+ KB\n"
          ]
        }
      ]
    },
    {
      "cell_type": "markdown",
      "source": [
        "# 5) Rating and Rating record\n"
      ],
      "metadata": {
        "id": "iVztLq4zij8E"
      }
    },
    {
      "cell_type": "code",
      "source": [
        "df.info()"
      ],
      "metadata": {
        "colab": {
          "base_uri": "https://localhost:8080/"
        },
        "id": "_iShkNIntXNC",
        "outputId": "ebae9175-c6e6-42ef-e4fc-d7db17871031"
      },
      "execution_count": 17,
      "outputs": [
        {
          "output_type": "stream",
          "name": "stdout",
          "text": [
            "<class 'pandas.core.frame.DataFrame'>\n",
            "RangeIndex: 3661 entries, 0 to 3660\n",
            "Data columns (total 7 columns):\n",
            " #   Column         Non-Null Count  Dtype  \n",
            "---  ------         --------------  -----  \n",
            " 0   Name           3661 non-null   object \n",
            " 1   Price          3586 non-null   object \n",
            " 2   Sales          3661 non-null   float64\n",
            " 3   Rating         3583 non-null   object \n",
            " 4   Rating record  3571 non-null   object \n",
            " 5   Date           3661 non-null   object \n",
            " 6   Discount       534 non-null    object \n",
            "dtypes: float64(1), object(6)\n",
            "memory usage: 200.3+ KB\n"
          ]
        }
      ]
    },
    {
      "cell_type": "code",
      "source": [
        "df['Rating record'] = df['Rating record'].fillna(value='0')"
      ],
      "metadata": {
        "id": "iyrXVeustouz"
      },
      "execution_count": 18,
      "outputs": []
    },
    {
      "cell_type": "code",
      "source": [
        "def convert_to_numeric(strings):\n",
        "    if \"k\" in strings:\n",
        "        num = float(strings.replace(\"k\", \"\").replace(',', '.'))*1000\n",
        "        return num\n",
        "    else:\n",
        "        return strings"
      ],
      "metadata": {
        "id": "3aM2Ntkgt1La"
      },
      "execution_count": 19,
      "outputs": []
    },
    {
      "cell_type": "code",
      "source": [
        "df['Rating record'] = df['Rating record'].apply(convert_to_numeric)\n",
        "# there are data that is empty string as initially it can be \"Da ban\" with no sale number\n",
        "# therefore, replace those with a valid value or remove the row entirely and change column type to numeric\n",
        "df['Rating record'] = pd.to_numeric(df['Rating record'], errors='coerce').fillna(0)"
      ],
      "metadata": {
        "id": "01t1fnVGp1gs"
      },
      "execution_count": 20,
      "outputs": []
    },
    {
      "cell_type": "code",
      "source": [
        "df"
      ],
      "metadata": {
        "colab": {
          "base_uri": "https://localhost:8080/",
          "height": 0
        },
        "id": "IRg9SbE8EbZp",
        "outputId": "12d8d64b-6a6d-4836-9769-09b403584011"
      },
      "execution_count": 21,
      "outputs": [
        {
          "output_type": "execute_result",
          "data": {
            "text/plain": [
              "                                                   Name     Price     Sales  \\\n",
              "0     Gel rửa mặt cà phê Đắk Lắk Cocoon cho làn da t...       195     344.0   \n",
              "1     HÀNG TẶNG KHÔNG BÁN - Gel rửa mặt cà phê Đắk L...       195      38.0   \n",
              "2     [Mã COSCN12 giảm 8%] Tẩy da chết cơ thể cà phê...       125  120000.0   \n",
              "3     [Mã COSCN12 giảm 8%] Tẩy da chết môi cà phê Đắ...        75   20200.0   \n",
              "4     [Mã COSCN12 giảm 8%] Bơ dưỡng thể cà phê Đắk L...       215   10500.0   \n",
              "...                                                 ...       ...       ...   \n",
              "3656  [Mã COSCN12 giảm 8%] Bigsize - Nước tẩy trang ...  ₫250.750    8900.0   \n",
              "3657  [Mã COSCN12 giảm 8%] Bigsize - Thạch hoa hồng ...  ₫327.250    6900.0   \n",
              "3658  [Mã COSCN12 giảm 8%] Nước hoa hồng (toner) Coc...  ₫165.750   13100.0   \n",
              "3659  [Mã COSCN12 giảm 8%] Tinh chất hoa hồng (serum...  ₫225.250    4000.0   \n",
              "3660  [Mã COSCN12 giảm 8%] Thạch hoa hồng dưỡng ẩm (...  ₫165.750   16400.0   \n",
              "\n",
              "     Rating  Rating record        Date  Discount  \n",
              "0       4.9          109.0  02/15/2023       NaN  \n",
              "1         5           10.0  02/15/2023       NaN  \n",
              "2         5        44400.0  02/15/2023       NaN  \n",
              "3         5         8100.0  02/15/2023       NaN  \n",
              "4         5         4300.0  02/15/2023       NaN  \n",
              "...     ...            ...         ...       ...  \n",
              "3656    4,9         3200.0   4/15/2023  15% giảm  \n",
              "3657    4,9         2500.0   4/15/2023  15% giảm  \n",
              "3658      5         4800.0   4/15/2023  15% giảm  \n",
              "3659      5         1500.0   4/15/2023  15% giảm  \n",
              "3660      5         6700.0   4/15/2023  15% giảm  \n",
              "\n",
              "[3661 rows x 7 columns]"
            ],
            "text/html": [
              "\n",
              "  <div id=\"df-9e032253-f8e6-4de9-ad05-462f61939496\">\n",
              "    <div class=\"colab-df-container\">\n",
              "      <div>\n",
              "<style scoped>\n",
              "    .dataframe tbody tr th:only-of-type {\n",
              "        vertical-align: middle;\n",
              "    }\n",
              "\n",
              "    .dataframe tbody tr th {\n",
              "        vertical-align: top;\n",
              "    }\n",
              "\n",
              "    .dataframe thead th {\n",
              "        text-align: right;\n",
              "    }\n",
              "</style>\n",
              "<table border=\"1\" class=\"dataframe\">\n",
              "  <thead>\n",
              "    <tr style=\"text-align: right;\">\n",
              "      <th></th>\n",
              "      <th>Name</th>\n",
              "      <th>Price</th>\n",
              "      <th>Sales</th>\n",
              "      <th>Rating</th>\n",
              "      <th>Rating record</th>\n",
              "      <th>Date</th>\n",
              "      <th>Discount</th>\n",
              "    </tr>\n",
              "  </thead>\n",
              "  <tbody>\n",
              "    <tr>\n",
              "      <th>0</th>\n",
              "      <td>Gel rửa mặt cà phê Đắk Lắk Cocoon cho làn da t...</td>\n",
              "      <td>195</td>\n",
              "      <td>344.0</td>\n",
              "      <td>4.9</td>\n",
              "      <td>109.0</td>\n",
              "      <td>02/15/2023</td>\n",
              "      <td>NaN</td>\n",
              "    </tr>\n",
              "    <tr>\n",
              "      <th>1</th>\n",
              "      <td>HÀNG TẶNG KHÔNG BÁN - Gel rửa mặt cà phê Đắk L...</td>\n",
              "      <td>195</td>\n",
              "      <td>38.0</td>\n",
              "      <td>5</td>\n",
              "      <td>10.0</td>\n",
              "      <td>02/15/2023</td>\n",
              "      <td>NaN</td>\n",
              "    </tr>\n",
              "    <tr>\n",
              "      <th>2</th>\n",
              "      <td>[Mã COSCN12 giảm 8%] Tẩy da chết cơ thể cà phê...</td>\n",
              "      <td>125</td>\n",
              "      <td>120000.0</td>\n",
              "      <td>5</td>\n",
              "      <td>44400.0</td>\n",
              "      <td>02/15/2023</td>\n",
              "      <td>NaN</td>\n",
              "    </tr>\n",
              "    <tr>\n",
              "      <th>3</th>\n",
              "      <td>[Mã COSCN12 giảm 8%] Tẩy da chết môi cà phê Đắ...</td>\n",
              "      <td>75</td>\n",
              "      <td>20200.0</td>\n",
              "      <td>5</td>\n",
              "      <td>8100.0</td>\n",
              "      <td>02/15/2023</td>\n",
              "      <td>NaN</td>\n",
              "    </tr>\n",
              "    <tr>\n",
              "      <th>4</th>\n",
              "      <td>[Mã COSCN12 giảm 8%] Bơ dưỡng thể cà phê Đắk L...</td>\n",
              "      <td>215</td>\n",
              "      <td>10500.0</td>\n",
              "      <td>5</td>\n",
              "      <td>4300.0</td>\n",
              "      <td>02/15/2023</td>\n",
              "      <td>NaN</td>\n",
              "    </tr>\n",
              "    <tr>\n",
              "      <th>...</th>\n",
              "      <td>...</td>\n",
              "      <td>...</td>\n",
              "      <td>...</td>\n",
              "      <td>...</td>\n",
              "      <td>...</td>\n",
              "      <td>...</td>\n",
              "      <td>...</td>\n",
              "    </tr>\n",
              "    <tr>\n",
              "      <th>3656</th>\n",
              "      <td>[Mã COSCN12 giảm 8%] Bigsize - Nước tẩy trang ...</td>\n",
              "      <td>₫250.750</td>\n",
              "      <td>8900.0</td>\n",
              "      <td>4,9</td>\n",
              "      <td>3200.0</td>\n",
              "      <td>4/15/2023</td>\n",
              "      <td>15% giảm</td>\n",
              "    </tr>\n",
              "    <tr>\n",
              "      <th>3657</th>\n",
              "      <td>[Mã COSCN12 giảm 8%] Bigsize - Thạch hoa hồng ...</td>\n",
              "      <td>₫327.250</td>\n",
              "      <td>6900.0</td>\n",
              "      <td>4,9</td>\n",
              "      <td>2500.0</td>\n",
              "      <td>4/15/2023</td>\n",
              "      <td>15% giảm</td>\n",
              "    </tr>\n",
              "    <tr>\n",
              "      <th>3658</th>\n",
              "      <td>[Mã COSCN12 giảm 8%] Nước hoa hồng (toner) Coc...</td>\n",
              "      <td>₫165.750</td>\n",
              "      <td>13100.0</td>\n",
              "      <td>5</td>\n",
              "      <td>4800.0</td>\n",
              "      <td>4/15/2023</td>\n",
              "      <td>15% giảm</td>\n",
              "    </tr>\n",
              "    <tr>\n",
              "      <th>3659</th>\n",
              "      <td>[Mã COSCN12 giảm 8%] Tinh chất hoa hồng (serum...</td>\n",
              "      <td>₫225.250</td>\n",
              "      <td>4000.0</td>\n",
              "      <td>5</td>\n",
              "      <td>1500.0</td>\n",
              "      <td>4/15/2023</td>\n",
              "      <td>15% giảm</td>\n",
              "    </tr>\n",
              "    <tr>\n",
              "      <th>3660</th>\n",
              "      <td>[Mã COSCN12 giảm 8%] Thạch hoa hồng dưỡng ẩm (...</td>\n",
              "      <td>₫165.750</td>\n",
              "      <td>16400.0</td>\n",
              "      <td>5</td>\n",
              "      <td>6700.0</td>\n",
              "      <td>4/15/2023</td>\n",
              "      <td>15% giảm</td>\n",
              "    </tr>\n",
              "  </tbody>\n",
              "</table>\n",
              "<p>3661 rows × 7 columns</p>\n",
              "</div>\n",
              "      <button class=\"colab-df-convert\" onclick=\"convertToInteractive('df-9e032253-f8e6-4de9-ad05-462f61939496')\"\n",
              "              title=\"Convert this dataframe to an interactive table.\"\n",
              "              style=\"display:none;\">\n",
              "        \n",
              "  <svg xmlns=\"http://www.w3.org/2000/svg\" height=\"24px\"viewBox=\"0 0 24 24\"\n",
              "       width=\"24px\">\n",
              "    <path d=\"M0 0h24v24H0V0z\" fill=\"none\"/>\n",
              "    <path d=\"M18.56 5.44l.94 2.06.94-2.06 2.06-.94-2.06-.94-.94-2.06-.94 2.06-2.06.94zm-11 1L8.5 8.5l.94-2.06 2.06-.94-2.06-.94L8.5 2.5l-.94 2.06-2.06.94zm10 10l.94 2.06.94-2.06 2.06-.94-2.06-.94-.94-2.06-.94 2.06-2.06.94z\"/><path d=\"M17.41 7.96l-1.37-1.37c-.4-.4-.92-.59-1.43-.59-.52 0-1.04.2-1.43.59L10.3 9.45l-7.72 7.72c-.78.78-.78 2.05 0 2.83L4 21.41c.39.39.9.59 1.41.59.51 0 1.02-.2 1.41-.59l7.78-7.78 2.81-2.81c.8-.78.8-2.07 0-2.86zM5.41 20L4 18.59l7.72-7.72 1.47 1.35L5.41 20z\"/>\n",
              "  </svg>\n",
              "      </button>\n",
              "      \n",
              "  <style>\n",
              "    .colab-df-container {\n",
              "      display:flex;\n",
              "      flex-wrap:wrap;\n",
              "      gap: 12px;\n",
              "    }\n",
              "\n",
              "    .colab-df-convert {\n",
              "      background-color: #E8F0FE;\n",
              "      border: none;\n",
              "      border-radius: 50%;\n",
              "      cursor: pointer;\n",
              "      display: none;\n",
              "      fill: #1967D2;\n",
              "      height: 32px;\n",
              "      padding: 0 0 0 0;\n",
              "      width: 32px;\n",
              "    }\n",
              "\n",
              "    .colab-df-convert:hover {\n",
              "      background-color: #E2EBFA;\n",
              "      box-shadow: 0px 1px 2px rgba(60, 64, 67, 0.3), 0px 1px 3px 1px rgba(60, 64, 67, 0.15);\n",
              "      fill: #174EA6;\n",
              "    }\n",
              "\n",
              "    [theme=dark] .colab-df-convert {\n",
              "      background-color: #3B4455;\n",
              "      fill: #D2E3FC;\n",
              "    }\n",
              "\n",
              "    [theme=dark] .colab-df-convert:hover {\n",
              "      background-color: #434B5C;\n",
              "      box-shadow: 0px 1px 3px 1px rgba(0, 0, 0, 0.15);\n",
              "      filter: drop-shadow(0px 1px 2px rgba(0, 0, 0, 0.3));\n",
              "      fill: #FFFFFF;\n",
              "    }\n",
              "  </style>\n",
              "\n",
              "      <script>\n",
              "        const buttonEl =\n",
              "          document.querySelector('#df-9e032253-f8e6-4de9-ad05-462f61939496 button.colab-df-convert');\n",
              "        buttonEl.style.display =\n",
              "          google.colab.kernel.accessAllowed ? 'block' : 'none';\n",
              "\n",
              "        async function convertToInteractive(key) {\n",
              "          const element = document.querySelector('#df-9e032253-f8e6-4de9-ad05-462f61939496');\n",
              "          const dataTable =\n",
              "            await google.colab.kernel.invokeFunction('convertToInteractive',\n",
              "                                                     [key], {});\n",
              "          if (!dataTable) return;\n",
              "\n",
              "          const docLinkHtml = 'Like what you see? Visit the ' +\n",
              "            '<a target=\"_blank\" href=https://colab.research.google.com/notebooks/data_table.ipynb>data table notebook</a>'\n",
              "            + ' to learn more about interactive tables.';\n",
              "          element.innerHTML = '';\n",
              "          dataTable['output_type'] = 'display_data';\n",
              "          await google.colab.output.renderOutput(dataTable, element);\n",
              "          const docLink = document.createElement('div');\n",
              "          docLink.innerHTML = docLinkHtml;\n",
              "          element.appendChild(docLink);\n",
              "        }\n",
              "      </script>\n",
              "    </div>\n",
              "  </div>\n",
              "  "
            ]
          },
          "metadata": {},
          "execution_count": 21
        }
      ]
    },
    {
      "cell_type": "code",
      "source": [
        "df['Rating'] = df['Rating'].str.replace('Chưa Có Đánh Giá', '0')\n",
        "\n",
        "# therefore, replace those with a valid value or remove the row entirely and change column type to numeric\n",
        "df['Rating'] = pd.to_numeric(df['Rating'], errors='coerce').fillna(0)\n",
        "df = df.dropna(subset=['Rating'])"
      ],
      "metadata": {
        "id": "uzydjeHGupJr"
      },
      "execution_count": 22,
      "outputs": []
    },
    {
      "cell_type": "markdown",
      "source": [
        "# 6) Price"
      ],
      "metadata": {
        "id": "vj8odIl6BucF"
      }
    },
    {
      "cell_type": "code",
      "source": [
        "# extract only the numeric part of the \"Price\" column\n",
        "df[\"Price\"] = df[\"Price\"].str.extract(r\"(\\d+\\.?\\d*)\").astype(float)"
      ],
      "metadata": {
        "id": "afZQuYCPBHXL"
      },
      "execution_count": 23,
      "outputs": []
    },
    {
      "cell_type": "code",
      "source": [
        "# extract only the numeric part of the \"Discount\" column\n",
        "df[\"Discount\"] = df[\"Discount\"].str.extract(r\"(\\d+\\.?\\d*)\").astype(float)\n",
        "df.columns = df.columns.str.replace('Discount', 'Discount(%)')"
      ],
      "metadata": {
        "id": "zUMm8U4vkClx"
      },
      "execution_count": 24,
      "outputs": []
    },
    {
      "cell_type": "markdown",
      "source": [
        "# 7) Category and Product ID"
      ],
      "metadata": {
        "id": "XoBarn1zhcNZ"
      }
    },
    {
      "cell_type": "code",
      "source": [
        "# define a function to assign categories based on product names\n",
        "def assign_category(name):\n",
        "    if \"cà phê\" in name.lower():\n",
        "        return \"Coffee\"\n",
        "    elif \"hoa hồng\" in name.lower():\n",
        "        return \"Rose\"\n",
        "    elif \"bưởi\" in name.lower():\n",
        "        return \"Pomelo\"\n",
        "    elif \"nghệ\" in name.lower():\n",
        "        return \"Ginger\"\n",
        "    elif \"bí đao\" in name.lower():\n",
        "        return \"Squash\"\n",
        "    else:\n",
        "        return \"Other\"\n",
        "\n",
        "# define a function to assign categories based on product names\n",
        "def assign_ini(name):\n",
        "    if \"cà phê\" in name.lower():\n",
        "        return \"C\"\n",
        "    elif \"hoa hồng\" in name.lower():\n",
        "        return \"R\"\n",
        "    elif \"bưởi\" in name.lower():\n",
        "        return \"P\"\n",
        "    elif \"nghệ\" in name.lower():\n",
        "        return \"G\"\n",
        "    elif \"bí đao\" in name.lower():\n",
        "        return \"S\"\n",
        "    else:\n",
        "        return \"O\"\n",
        "# apply the function to create a new \"category\" column\n",
        "df[\"Category\"] = df[\"Name\"].apply(lambda name: assign_category(name))\n",
        "df[\"Ini_cat\"] = df[\"Name\"].apply(lambda name: assign_ini(name))"
      ],
      "metadata": {
        "id": "Agx3dtGcFHcc"
      },
      "execution_count": 25,
      "outputs": []
    },
    {
      "cell_type": "code",
      "source": [
        "#create seperate dataset for each category\n",
        "coffee_df = df[df[\"Category\"] == \"Coffee\"]\n",
        "rose_df = df[df[\"Category\"] == \"Rose\"]\n",
        "pomelo_df = df[df[\"Category\"] == \"Pomelo\"]\n",
        "ginger_df = df[df[\"Category\"] == \"Ginger\"]\n",
        "squash_df = df[df[\"Category\"] == \"Squash\"]\n",
        "\n",
        "# group by product name and assign a product ID to each category\n",
        "coffee_df[\"Group_ID\"] = coffee_df.groupby(\"Name\").ngroup() + 1\n",
        "rose_df[\"Group_ID\"] = rose_df.groupby(\"Name\").ngroup() + 1\n",
        "pomelo_df[\"Group_ID\"] = pomelo_df.groupby(\"Name\").ngroup() + 1\n",
        "ginger_df[\"Group_ID\"] = ginger_df.groupby(\"Name\").ngroup() + 1\n",
        "squash_df[\"Group_ID\"] = squash_df.groupby(\"Name\").ngroup() + 1"
      ],
      "metadata": {
        "id": "ssGGqYsnb_GI"
      },
      "execution_count": 26,
      "outputs": []
    },
    {
      "cell_type": "code",
      "source": [
        "# merge data with category type and ID back as official dataset \n",
        "df=pd.concat([coffee_df, rose_df, pomelo_df, ginger_df, squash_df], ignore_index=True)\n",
        "\n",
        "# create Product_ID column based on category initial and category ID\n",
        "df['Product_ID'] = df.apply(lambda row: str(row['Ini_cat']) + str(row['Group_ID']), axis=1)"
      ],
      "metadata": {
        "id": "iIJszGBwehII"
      },
      "execution_count": 27,
      "outputs": []
    },
    {
      "cell_type": "code",
      "source": [
        "discount_program = df[df[\"Discount(%)\"].notna()]\n",
        "discount_program"
      ],
      "metadata": {
        "id": "V3Ld1Uw6mJnK",
        "colab": {
          "base_uri": "https://localhost:8080/",
          "height": 0
        },
        "outputId": "3f68f8ea-d742-4c7f-a0e8-6da0b231a485"
      },
      "execution_count": 28,
      "outputs": [
        {
          "output_type": "execute_result",
          "data": {
            "text/plain": [
              "                                                   Name   Price     Sales  \\\n",
              "247   HÀNG TẶNG KHÔNG BÁN - Tẩy da chết mặt cà phê Đ...  165.00    3600.0   \n",
              "248   [Mã COSCN12 giảm 8%] Combo làm sạch da chết và...  323.00    1600.0   \n",
              "249   [DEAL 1 TẶNG 1 ĐỘC QUYỀN FLASH SALE] Bơ dưỡng ...  340.00     734.0   \n",
              "250   [Mã COSCN12 giảm 8%] Tẩy da chết môi cà phê Đắ...   75.00   20400.0   \n",
              "252   [Mã COSCN12 giảm 8%] Tẩy da chết cơ thể cà phê...  125.00  121200.0   \n",
              "...                                                 ...     ...       ...   \n",
              "3656  [COMBO MUA 1 TẶNG 1 ÁP DỤNG 01/04-30/04] Kem c...  395.00     621.0   \n",
              "3657  [Mã COSCN12 giảm 8%] Bigsize - Nước bí đao cân...  250.75    5500.0   \n",
              "3658  Tinh chất bí đao (serum) 7% Niacinamide sạch m...  250.75    4000.0   \n",
              "3659  [Mã COSCN12 giảm 8%] Nước bí đao cân bằng da (...  165.75   17600.0   \n",
              "3660  [Mã COSCN12 giảm 8%] Gel bí đao rửa mặt Cocoon...     NaN   27400.0   \n",
              "\n",
              "      Rating  Rating record        Date  Discount(%) Category Ini_cat  \\\n",
              "247      5.0         1300.0  02/28/2023         15.0   Coffee       C   \n",
              "248      5.0          589.0  02/28/2023         15.0   Coffee       C   \n",
              "249      0.0          226.0  02/28/2023         15.0   Coffee       C   \n",
              "250      5.0         8200.0  02/28/2023         15.0   Coffee       C   \n",
              "252      5.0        44700.0  02/28/2023         15.0   Coffee       C   \n",
              "...      ...            ...         ...          ...      ...     ...   \n",
              "3656     0.0          172.0   4/15/2023         43.0   Squash       S   \n",
              "3657     0.0         2000.0   4/15/2023         15.0   Squash       S   \n",
              "3658     0.0         1400.0   4/15/2023         15.0   Squash       S   \n",
              "3659     5.0         7400.0   4/15/2023         15.0   Squash       S   \n",
              "3660     5.0        10500.0   4/15/2023         15.0   Squash       S   \n",
              "\n",
              "      Group_ID Product_ID  \n",
              "247          8         C8  \n",
              "248         19        C19  \n",
              "249         16        C16  \n",
              "250         21        C21  \n",
              "252         20        C20  \n",
              "...        ...        ...  \n",
              "3656        20        S20  \n",
              "3657        24        S24  \n",
              "3658        18        S18  \n",
              "3659        33        S33  \n",
              "3660        29        S29  \n",
              "\n",
              "[533 rows x 11 columns]"
            ],
            "text/html": [
              "\n",
              "  <div id=\"df-cf47e3ea-69e8-4f42-8515-f83c1ee6025a\">\n",
              "    <div class=\"colab-df-container\">\n",
              "      <div>\n",
              "<style scoped>\n",
              "    .dataframe tbody tr th:only-of-type {\n",
              "        vertical-align: middle;\n",
              "    }\n",
              "\n",
              "    .dataframe tbody tr th {\n",
              "        vertical-align: top;\n",
              "    }\n",
              "\n",
              "    .dataframe thead th {\n",
              "        text-align: right;\n",
              "    }\n",
              "</style>\n",
              "<table border=\"1\" class=\"dataframe\">\n",
              "  <thead>\n",
              "    <tr style=\"text-align: right;\">\n",
              "      <th></th>\n",
              "      <th>Name</th>\n",
              "      <th>Price</th>\n",
              "      <th>Sales</th>\n",
              "      <th>Rating</th>\n",
              "      <th>Rating record</th>\n",
              "      <th>Date</th>\n",
              "      <th>Discount(%)</th>\n",
              "      <th>Category</th>\n",
              "      <th>Ini_cat</th>\n",
              "      <th>Group_ID</th>\n",
              "      <th>Product_ID</th>\n",
              "    </tr>\n",
              "  </thead>\n",
              "  <tbody>\n",
              "    <tr>\n",
              "      <th>247</th>\n",
              "      <td>HÀNG TẶNG KHÔNG BÁN - Tẩy da chết mặt cà phê Đ...</td>\n",
              "      <td>165.00</td>\n",
              "      <td>3600.0</td>\n",
              "      <td>5.0</td>\n",
              "      <td>1300.0</td>\n",
              "      <td>02/28/2023</td>\n",
              "      <td>15.0</td>\n",
              "      <td>Coffee</td>\n",
              "      <td>C</td>\n",
              "      <td>8</td>\n",
              "      <td>C8</td>\n",
              "    </tr>\n",
              "    <tr>\n",
              "      <th>248</th>\n",
              "      <td>[Mã COSCN12 giảm 8%] Combo làm sạch da chết và...</td>\n",
              "      <td>323.00</td>\n",
              "      <td>1600.0</td>\n",
              "      <td>5.0</td>\n",
              "      <td>589.0</td>\n",
              "      <td>02/28/2023</td>\n",
              "      <td>15.0</td>\n",
              "      <td>Coffee</td>\n",
              "      <td>C</td>\n",
              "      <td>19</td>\n",
              "      <td>C19</td>\n",
              "    </tr>\n",
              "    <tr>\n",
              "      <th>249</th>\n",
              "      <td>[DEAL 1 TẶNG 1 ĐỘC QUYỀN FLASH SALE] Bơ dưỡng ...</td>\n",
              "      <td>340.00</td>\n",
              "      <td>734.0</td>\n",
              "      <td>0.0</td>\n",
              "      <td>226.0</td>\n",
              "      <td>02/28/2023</td>\n",
              "      <td>15.0</td>\n",
              "      <td>Coffee</td>\n",
              "      <td>C</td>\n",
              "      <td>16</td>\n",
              "      <td>C16</td>\n",
              "    </tr>\n",
              "    <tr>\n",
              "      <th>250</th>\n",
              "      <td>[Mã COSCN12 giảm 8%] Tẩy da chết môi cà phê Đắ...</td>\n",
              "      <td>75.00</td>\n",
              "      <td>20400.0</td>\n",
              "      <td>5.0</td>\n",
              "      <td>8200.0</td>\n",
              "      <td>02/28/2023</td>\n",
              "      <td>15.0</td>\n",
              "      <td>Coffee</td>\n",
              "      <td>C</td>\n",
              "      <td>21</td>\n",
              "      <td>C21</td>\n",
              "    </tr>\n",
              "    <tr>\n",
              "      <th>252</th>\n",
              "      <td>[Mã COSCN12 giảm 8%] Tẩy da chết cơ thể cà phê...</td>\n",
              "      <td>125.00</td>\n",
              "      <td>121200.0</td>\n",
              "      <td>5.0</td>\n",
              "      <td>44700.0</td>\n",
              "      <td>02/28/2023</td>\n",
              "      <td>15.0</td>\n",
              "      <td>Coffee</td>\n",
              "      <td>C</td>\n",
              "      <td>20</td>\n",
              "      <td>C20</td>\n",
              "    </tr>\n",
              "    <tr>\n",
              "      <th>...</th>\n",
              "      <td>...</td>\n",
              "      <td>...</td>\n",
              "      <td>...</td>\n",
              "      <td>...</td>\n",
              "      <td>...</td>\n",
              "      <td>...</td>\n",
              "      <td>...</td>\n",
              "      <td>...</td>\n",
              "      <td>...</td>\n",
              "      <td>...</td>\n",
              "      <td>...</td>\n",
              "    </tr>\n",
              "    <tr>\n",
              "      <th>3656</th>\n",
              "      <td>[COMBO MUA 1 TẶNG 1 ÁP DỤNG 01/04-30/04] Kem c...</td>\n",
              "      <td>395.00</td>\n",
              "      <td>621.0</td>\n",
              "      <td>0.0</td>\n",
              "      <td>172.0</td>\n",
              "      <td>4/15/2023</td>\n",
              "      <td>43.0</td>\n",
              "      <td>Squash</td>\n",
              "      <td>S</td>\n",
              "      <td>20</td>\n",
              "      <td>S20</td>\n",
              "    </tr>\n",
              "    <tr>\n",
              "      <th>3657</th>\n",
              "      <td>[Mã COSCN12 giảm 8%] Bigsize - Nước bí đao cân...</td>\n",
              "      <td>250.75</td>\n",
              "      <td>5500.0</td>\n",
              "      <td>0.0</td>\n",
              "      <td>2000.0</td>\n",
              "      <td>4/15/2023</td>\n",
              "      <td>15.0</td>\n",
              "      <td>Squash</td>\n",
              "      <td>S</td>\n",
              "      <td>24</td>\n",
              "      <td>S24</td>\n",
              "    </tr>\n",
              "    <tr>\n",
              "      <th>3658</th>\n",
              "      <td>Tinh chất bí đao (serum) 7% Niacinamide sạch m...</td>\n",
              "      <td>250.75</td>\n",
              "      <td>4000.0</td>\n",
              "      <td>0.0</td>\n",
              "      <td>1400.0</td>\n",
              "      <td>4/15/2023</td>\n",
              "      <td>15.0</td>\n",
              "      <td>Squash</td>\n",
              "      <td>S</td>\n",
              "      <td>18</td>\n",
              "      <td>S18</td>\n",
              "    </tr>\n",
              "    <tr>\n",
              "      <th>3659</th>\n",
              "      <td>[Mã COSCN12 giảm 8%] Nước bí đao cân bằng da (...</td>\n",
              "      <td>165.75</td>\n",
              "      <td>17600.0</td>\n",
              "      <td>5.0</td>\n",
              "      <td>7400.0</td>\n",
              "      <td>4/15/2023</td>\n",
              "      <td>15.0</td>\n",
              "      <td>Squash</td>\n",
              "      <td>S</td>\n",
              "      <td>33</td>\n",
              "      <td>S33</td>\n",
              "    </tr>\n",
              "    <tr>\n",
              "      <th>3660</th>\n",
              "      <td>[Mã COSCN12 giảm 8%] Gel bí đao rửa mặt Cocoon...</td>\n",
              "      <td>NaN</td>\n",
              "      <td>27400.0</td>\n",
              "      <td>5.0</td>\n",
              "      <td>10500.0</td>\n",
              "      <td>4/15/2023</td>\n",
              "      <td>15.0</td>\n",
              "      <td>Squash</td>\n",
              "      <td>S</td>\n",
              "      <td>29</td>\n",
              "      <td>S29</td>\n",
              "    </tr>\n",
              "  </tbody>\n",
              "</table>\n",
              "<p>533 rows × 11 columns</p>\n",
              "</div>\n",
              "      <button class=\"colab-df-convert\" onclick=\"convertToInteractive('df-cf47e3ea-69e8-4f42-8515-f83c1ee6025a')\"\n",
              "              title=\"Convert this dataframe to an interactive table.\"\n",
              "              style=\"display:none;\">\n",
              "        \n",
              "  <svg xmlns=\"http://www.w3.org/2000/svg\" height=\"24px\"viewBox=\"0 0 24 24\"\n",
              "       width=\"24px\">\n",
              "    <path d=\"M0 0h24v24H0V0z\" fill=\"none\"/>\n",
              "    <path d=\"M18.56 5.44l.94 2.06.94-2.06 2.06-.94-2.06-.94-.94-2.06-.94 2.06-2.06.94zm-11 1L8.5 8.5l.94-2.06 2.06-.94-2.06-.94L8.5 2.5l-.94 2.06-2.06.94zm10 10l.94 2.06.94-2.06 2.06-.94-2.06-.94-.94-2.06-.94 2.06-2.06.94z\"/><path d=\"M17.41 7.96l-1.37-1.37c-.4-.4-.92-.59-1.43-.59-.52 0-1.04.2-1.43.59L10.3 9.45l-7.72 7.72c-.78.78-.78 2.05 0 2.83L4 21.41c.39.39.9.59 1.41.59.51 0 1.02-.2 1.41-.59l7.78-7.78 2.81-2.81c.8-.78.8-2.07 0-2.86zM5.41 20L4 18.59l7.72-7.72 1.47 1.35L5.41 20z\"/>\n",
              "  </svg>\n",
              "      </button>\n",
              "      \n",
              "  <style>\n",
              "    .colab-df-container {\n",
              "      display:flex;\n",
              "      flex-wrap:wrap;\n",
              "      gap: 12px;\n",
              "    }\n",
              "\n",
              "    .colab-df-convert {\n",
              "      background-color: #E8F0FE;\n",
              "      border: none;\n",
              "      border-radius: 50%;\n",
              "      cursor: pointer;\n",
              "      display: none;\n",
              "      fill: #1967D2;\n",
              "      height: 32px;\n",
              "      padding: 0 0 0 0;\n",
              "      width: 32px;\n",
              "    }\n",
              "\n",
              "    .colab-df-convert:hover {\n",
              "      background-color: #E2EBFA;\n",
              "      box-shadow: 0px 1px 2px rgba(60, 64, 67, 0.3), 0px 1px 3px 1px rgba(60, 64, 67, 0.15);\n",
              "      fill: #174EA6;\n",
              "    }\n",
              "\n",
              "    [theme=dark] .colab-df-convert {\n",
              "      background-color: #3B4455;\n",
              "      fill: #D2E3FC;\n",
              "    }\n",
              "\n",
              "    [theme=dark] .colab-df-convert:hover {\n",
              "      background-color: #434B5C;\n",
              "      box-shadow: 0px 1px 3px 1px rgba(0, 0, 0, 0.15);\n",
              "      filter: drop-shadow(0px 1px 2px rgba(0, 0, 0, 0.3));\n",
              "      fill: #FFFFFF;\n",
              "    }\n",
              "  </style>\n",
              "\n",
              "      <script>\n",
              "        const buttonEl =\n",
              "          document.querySelector('#df-cf47e3ea-69e8-4f42-8515-f83c1ee6025a button.colab-df-convert');\n",
              "        buttonEl.style.display =\n",
              "          google.colab.kernel.accessAllowed ? 'block' : 'none';\n",
              "\n",
              "        async function convertToInteractive(key) {\n",
              "          const element = document.querySelector('#df-cf47e3ea-69e8-4f42-8515-f83c1ee6025a');\n",
              "          const dataTable =\n",
              "            await google.colab.kernel.invokeFunction('convertToInteractive',\n",
              "                                                     [key], {});\n",
              "          if (!dataTable) return;\n",
              "\n",
              "          const docLinkHtml = 'Like what you see? Visit the ' +\n",
              "            '<a target=\"_blank\" href=https://colab.research.google.com/notebooks/data_table.ipynb>data table notebook</a>'\n",
              "            + ' to learn more about interactive tables.';\n",
              "          element.innerHTML = '';\n",
              "          dataTable['output_type'] = 'display_data';\n",
              "          await google.colab.output.renderOutput(dataTable, element);\n",
              "          const docLink = document.createElement('div');\n",
              "          docLink.innerHTML = docLinkHtml;\n",
              "          element.appendChild(docLink);\n",
              "        }\n",
              "      </script>\n",
              "    </div>\n",
              "  </div>\n",
              "  "
            ]
          },
          "metadata": {},
          "execution_count": 28
        }
      ]
    },
    {
      "cell_type": "code",
      "source": [
        "# Final check for result of preprocessing data: \n",
        "df.info()"
      ],
      "metadata": {
        "colab": {
          "base_uri": "https://localhost:8080/"
        },
        "id": "OTYKBkFptZZt",
        "outputId": "06081e39-1494-4e03-95de-b662aefff74b"
      },
      "execution_count": 29,
      "outputs": [
        {
          "output_type": "stream",
          "name": "stdout",
          "text": [
            "<class 'pandas.core.frame.DataFrame'>\n",
            "RangeIndex: 3661 entries, 0 to 3660\n",
            "Data columns (total 11 columns):\n",
            " #   Column         Non-Null Count  Dtype  \n",
            "---  ------         --------------  -----  \n",
            " 0   Name           3661 non-null   object \n",
            " 1   Price          3585 non-null   float64\n",
            " 2   Sales          3661 non-null   float64\n",
            " 3   Rating         3661 non-null   float64\n",
            " 4   Rating record  3661 non-null   float64\n",
            " 5   Date           3661 non-null   object \n",
            " 6   Discount(%)    533 non-null    float64\n",
            " 7   Category       3661 non-null   object \n",
            " 8   Ini_cat        3661 non-null   object \n",
            " 9   Group_ID       3661 non-null   int64  \n",
            " 10  Product_ID     3661 non-null   object \n",
            "dtypes: float64(5), int64(1), object(5)\n",
            "memory usage: 314.7+ KB\n"
          ]
        }
      ]
    },
    {
      "cell_type": "code",
      "source": [
        "# Record information of the final data set as \"final_data_info\" \n",
        "final_data_info= df.info()"
      ],
      "metadata": {
        "colab": {
          "base_uri": "https://localhost:8080/"
        },
        "id": "6I5NkT-496ja",
        "outputId": "fbe75c0d-aeae-4f50-b7cf-3989f1f29df6"
      },
      "execution_count": 30,
      "outputs": [
        {
          "output_type": "stream",
          "name": "stdout",
          "text": [
            "<class 'pandas.core.frame.DataFrame'>\n",
            "RangeIndex: 3661 entries, 0 to 3660\n",
            "Data columns (total 11 columns):\n",
            " #   Column         Non-Null Count  Dtype  \n",
            "---  ------         --------------  -----  \n",
            " 0   Name           3661 non-null   object \n",
            " 1   Price          3585 non-null   float64\n",
            " 2   Sales          3661 non-null   float64\n",
            " 3   Rating         3661 non-null   float64\n",
            " 4   Rating record  3661 non-null   float64\n",
            " 5   Date           3661 non-null   object \n",
            " 6   Discount(%)    533 non-null    float64\n",
            " 7   Category       3661 non-null   object \n",
            " 8   Ini_cat        3661 non-null   object \n",
            " 9   Group_ID       3661 non-null   int64  \n",
            " 10  Product_ID     3661 non-null   object \n",
            "dtypes: float64(5), int64(1), object(5)\n",
            "memory usage: 314.7+ KB\n"
          ]
        }
      ]
    },
    {
      "cell_type": "code",
      "source": [
        "# Write the DataFrame to a CSV file\n",
        "df.to_csv(\"Preprocessed_data.csv\", index=True)\n",
        "coffee_df.to_csv(\"Coffee_data.csv\", index=True)\n",
        "rose_df.to_csv(\"Rose_df.csv\", index=True)\n",
        "pomelo_df.to_csv(\"Pomelo_df.csv\", index=True)\n",
        "ginger_df.to_csv(\"Ginger_df.csv\", index=True)\n",
        "squash_df.to_csv(\"Squash_df.csv\", index=True)"
      ],
      "metadata": {
        "id": "wnvqmxKQml7Z"
      },
      "execution_count": 31,
      "outputs": []
    },
    {
      "cell_type": "code",
      "source": [
        "df"
      ],
      "metadata": {
        "colab": {
          "base_uri": "https://localhost:8080/",
          "height": 0
        },
        "id": "iJTIcWprqtM3",
        "outputId": "712de537-4c48-4457-835a-8865ac26c47d"
      },
      "execution_count": 32,
      "outputs": [
        {
          "output_type": "execute_result",
          "data": {
            "text/plain": [
              "                                                   Name   Price     Sales  \\\n",
              "0     Gel rửa mặt cà phê Đắk Lắk Cocoon cho làn da t...  195.00     344.0   \n",
              "1     HÀNG TẶNG KHÔNG BÁN - Gel rửa mặt cà phê Đắk L...  195.00      38.0   \n",
              "2     [Mã COSCN12 giảm 8%] Tẩy da chết cơ thể cà phê...  125.00  120000.0   \n",
              "3     [Mã COSCN12 giảm 8%] Tẩy da chết môi cà phê Đắ...   75.00   20200.0   \n",
              "4     [Mã COSCN12 giảm 8%] Bơ dưỡng thể cà phê Đắk L...  215.00   10500.0   \n",
              "...                                                 ...     ...       ...   \n",
              "3656  [COMBO MUA 1 TẶNG 1 ÁP DỤNG 01/04-30/04] Kem c...  395.00     621.0   \n",
              "3657  [Mã COSCN12 giảm 8%] Bigsize - Nước bí đao cân...  250.75    5500.0   \n",
              "3658  Tinh chất bí đao (serum) 7% Niacinamide sạch m...  250.75    4000.0   \n",
              "3659  [Mã COSCN12 giảm 8%] Nước bí đao cân bằng da (...  165.75   17600.0   \n",
              "3660  [Mã COSCN12 giảm 8%] Gel bí đao rửa mặt Cocoon...     NaN   27400.0   \n",
              "\n",
              "      Rating  Rating record        Date  Discount(%) Category Ini_cat  \\\n",
              "0        4.9          109.0  02/15/2023          NaN   Coffee       C   \n",
              "1        5.0           10.0  02/15/2023          NaN   Coffee       C   \n",
              "2        5.0        44400.0  02/15/2023          NaN   Coffee       C   \n",
              "3        5.0         8100.0  02/15/2023          NaN   Coffee       C   \n",
              "4        5.0         4300.0  02/15/2023          NaN   Coffee       C   \n",
              "...      ...            ...         ...          ...      ...     ...   \n",
              "3656     0.0          172.0   4/15/2023         43.0   Squash       S   \n",
              "3657     0.0         2000.0   4/15/2023         15.0   Squash       S   \n",
              "3658     0.0         1400.0   4/15/2023         15.0   Squash       S   \n",
              "3659     5.0         7400.0   4/15/2023         15.0   Squash       S   \n",
              "3660     5.0        10500.0   4/15/2023         15.0   Squash       S   \n",
              "\n",
              "      Group_ID Product_ID  \n",
              "0            4         C4  \n",
              "1            5         C5  \n",
              "2           20        C20  \n",
              "3           21        C21  \n",
              "4           17        C17  \n",
              "...        ...        ...  \n",
              "3656        20        S20  \n",
              "3657        24        S24  \n",
              "3658        18        S18  \n",
              "3659        33        S33  \n",
              "3660        29        S29  \n",
              "\n",
              "[3661 rows x 11 columns]"
            ],
            "text/html": [
              "\n",
              "  <div id=\"df-8a1d9ccb-4d11-4668-97e7-f78558646b5c\">\n",
              "    <div class=\"colab-df-container\">\n",
              "      <div>\n",
              "<style scoped>\n",
              "    .dataframe tbody tr th:only-of-type {\n",
              "        vertical-align: middle;\n",
              "    }\n",
              "\n",
              "    .dataframe tbody tr th {\n",
              "        vertical-align: top;\n",
              "    }\n",
              "\n",
              "    .dataframe thead th {\n",
              "        text-align: right;\n",
              "    }\n",
              "</style>\n",
              "<table border=\"1\" class=\"dataframe\">\n",
              "  <thead>\n",
              "    <tr style=\"text-align: right;\">\n",
              "      <th></th>\n",
              "      <th>Name</th>\n",
              "      <th>Price</th>\n",
              "      <th>Sales</th>\n",
              "      <th>Rating</th>\n",
              "      <th>Rating record</th>\n",
              "      <th>Date</th>\n",
              "      <th>Discount(%)</th>\n",
              "      <th>Category</th>\n",
              "      <th>Ini_cat</th>\n",
              "      <th>Group_ID</th>\n",
              "      <th>Product_ID</th>\n",
              "    </tr>\n",
              "  </thead>\n",
              "  <tbody>\n",
              "    <tr>\n",
              "      <th>0</th>\n",
              "      <td>Gel rửa mặt cà phê Đắk Lắk Cocoon cho làn da t...</td>\n",
              "      <td>195.00</td>\n",
              "      <td>344.0</td>\n",
              "      <td>4.9</td>\n",
              "      <td>109.0</td>\n",
              "      <td>02/15/2023</td>\n",
              "      <td>NaN</td>\n",
              "      <td>Coffee</td>\n",
              "      <td>C</td>\n",
              "      <td>4</td>\n",
              "      <td>C4</td>\n",
              "    </tr>\n",
              "    <tr>\n",
              "      <th>1</th>\n",
              "      <td>HÀNG TẶNG KHÔNG BÁN - Gel rửa mặt cà phê Đắk L...</td>\n",
              "      <td>195.00</td>\n",
              "      <td>38.0</td>\n",
              "      <td>5.0</td>\n",
              "      <td>10.0</td>\n",
              "      <td>02/15/2023</td>\n",
              "      <td>NaN</td>\n",
              "      <td>Coffee</td>\n",
              "      <td>C</td>\n",
              "      <td>5</td>\n",
              "      <td>C5</td>\n",
              "    </tr>\n",
              "    <tr>\n",
              "      <th>2</th>\n",
              "      <td>[Mã COSCN12 giảm 8%] Tẩy da chết cơ thể cà phê...</td>\n",
              "      <td>125.00</td>\n",
              "      <td>120000.0</td>\n",
              "      <td>5.0</td>\n",
              "      <td>44400.0</td>\n",
              "      <td>02/15/2023</td>\n",
              "      <td>NaN</td>\n",
              "      <td>Coffee</td>\n",
              "      <td>C</td>\n",
              "      <td>20</td>\n",
              "      <td>C20</td>\n",
              "    </tr>\n",
              "    <tr>\n",
              "      <th>3</th>\n",
              "      <td>[Mã COSCN12 giảm 8%] Tẩy da chết môi cà phê Đắ...</td>\n",
              "      <td>75.00</td>\n",
              "      <td>20200.0</td>\n",
              "      <td>5.0</td>\n",
              "      <td>8100.0</td>\n",
              "      <td>02/15/2023</td>\n",
              "      <td>NaN</td>\n",
              "      <td>Coffee</td>\n",
              "      <td>C</td>\n",
              "      <td>21</td>\n",
              "      <td>C21</td>\n",
              "    </tr>\n",
              "    <tr>\n",
              "      <th>4</th>\n",
              "      <td>[Mã COSCN12 giảm 8%] Bơ dưỡng thể cà phê Đắk L...</td>\n",
              "      <td>215.00</td>\n",
              "      <td>10500.0</td>\n",
              "      <td>5.0</td>\n",
              "      <td>4300.0</td>\n",
              "      <td>02/15/2023</td>\n",
              "      <td>NaN</td>\n",
              "      <td>Coffee</td>\n",
              "      <td>C</td>\n",
              "      <td>17</td>\n",
              "      <td>C17</td>\n",
              "    </tr>\n",
              "    <tr>\n",
              "      <th>...</th>\n",
              "      <td>...</td>\n",
              "      <td>...</td>\n",
              "      <td>...</td>\n",
              "      <td>...</td>\n",
              "      <td>...</td>\n",
              "      <td>...</td>\n",
              "      <td>...</td>\n",
              "      <td>...</td>\n",
              "      <td>...</td>\n",
              "      <td>...</td>\n",
              "      <td>...</td>\n",
              "    </tr>\n",
              "    <tr>\n",
              "      <th>3656</th>\n",
              "      <td>[COMBO MUA 1 TẶNG 1 ÁP DỤNG 01/04-30/04] Kem c...</td>\n",
              "      <td>395.00</td>\n",
              "      <td>621.0</td>\n",
              "      <td>0.0</td>\n",
              "      <td>172.0</td>\n",
              "      <td>4/15/2023</td>\n",
              "      <td>43.0</td>\n",
              "      <td>Squash</td>\n",
              "      <td>S</td>\n",
              "      <td>20</td>\n",
              "      <td>S20</td>\n",
              "    </tr>\n",
              "    <tr>\n",
              "      <th>3657</th>\n",
              "      <td>[Mã COSCN12 giảm 8%] Bigsize - Nước bí đao cân...</td>\n",
              "      <td>250.75</td>\n",
              "      <td>5500.0</td>\n",
              "      <td>0.0</td>\n",
              "      <td>2000.0</td>\n",
              "      <td>4/15/2023</td>\n",
              "      <td>15.0</td>\n",
              "      <td>Squash</td>\n",
              "      <td>S</td>\n",
              "      <td>24</td>\n",
              "      <td>S24</td>\n",
              "    </tr>\n",
              "    <tr>\n",
              "      <th>3658</th>\n",
              "      <td>Tinh chất bí đao (serum) 7% Niacinamide sạch m...</td>\n",
              "      <td>250.75</td>\n",
              "      <td>4000.0</td>\n",
              "      <td>0.0</td>\n",
              "      <td>1400.0</td>\n",
              "      <td>4/15/2023</td>\n",
              "      <td>15.0</td>\n",
              "      <td>Squash</td>\n",
              "      <td>S</td>\n",
              "      <td>18</td>\n",
              "      <td>S18</td>\n",
              "    </tr>\n",
              "    <tr>\n",
              "      <th>3659</th>\n",
              "      <td>[Mã COSCN12 giảm 8%] Nước bí đao cân bằng da (...</td>\n",
              "      <td>165.75</td>\n",
              "      <td>17600.0</td>\n",
              "      <td>5.0</td>\n",
              "      <td>7400.0</td>\n",
              "      <td>4/15/2023</td>\n",
              "      <td>15.0</td>\n",
              "      <td>Squash</td>\n",
              "      <td>S</td>\n",
              "      <td>33</td>\n",
              "      <td>S33</td>\n",
              "    </tr>\n",
              "    <tr>\n",
              "      <th>3660</th>\n",
              "      <td>[Mã COSCN12 giảm 8%] Gel bí đao rửa mặt Cocoon...</td>\n",
              "      <td>NaN</td>\n",
              "      <td>27400.0</td>\n",
              "      <td>5.0</td>\n",
              "      <td>10500.0</td>\n",
              "      <td>4/15/2023</td>\n",
              "      <td>15.0</td>\n",
              "      <td>Squash</td>\n",
              "      <td>S</td>\n",
              "      <td>29</td>\n",
              "      <td>S29</td>\n",
              "    </tr>\n",
              "  </tbody>\n",
              "</table>\n",
              "<p>3661 rows × 11 columns</p>\n",
              "</div>\n",
              "      <button class=\"colab-df-convert\" onclick=\"convertToInteractive('df-8a1d9ccb-4d11-4668-97e7-f78558646b5c')\"\n",
              "              title=\"Convert this dataframe to an interactive table.\"\n",
              "              style=\"display:none;\">\n",
              "        \n",
              "  <svg xmlns=\"http://www.w3.org/2000/svg\" height=\"24px\"viewBox=\"0 0 24 24\"\n",
              "       width=\"24px\">\n",
              "    <path d=\"M0 0h24v24H0V0z\" fill=\"none\"/>\n",
              "    <path d=\"M18.56 5.44l.94 2.06.94-2.06 2.06-.94-2.06-.94-.94-2.06-.94 2.06-2.06.94zm-11 1L8.5 8.5l.94-2.06 2.06-.94-2.06-.94L8.5 2.5l-.94 2.06-2.06.94zm10 10l.94 2.06.94-2.06 2.06-.94-2.06-.94-.94-2.06-.94 2.06-2.06.94z\"/><path d=\"M17.41 7.96l-1.37-1.37c-.4-.4-.92-.59-1.43-.59-.52 0-1.04.2-1.43.59L10.3 9.45l-7.72 7.72c-.78.78-.78 2.05 0 2.83L4 21.41c.39.39.9.59 1.41.59.51 0 1.02-.2 1.41-.59l7.78-7.78 2.81-2.81c.8-.78.8-2.07 0-2.86zM5.41 20L4 18.59l7.72-7.72 1.47 1.35L5.41 20z\"/>\n",
              "  </svg>\n",
              "      </button>\n",
              "      \n",
              "  <style>\n",
              "    .colab-df-container {\n",
              "      display:flex;\n",
              "      flex-wrap:wrap;\n",
              "      gap: 12px;\n",
              "    }\n",
              "\n",
              "    .colab-df-convert {\n",
              "      background-color: #E8F0FE;\n",
              "      border: none;\n",
              "      border-radius: 50%;\n",
              "      cursor: pointer;\n",
              "      display: none;\n",
              "      fill: #1967D2;\n",
              "      height: 32px;\n",
              "      padding: 0 0 0 0;\n",
              "      width: 32px;\n",
              "    }\n",
              "\n",
              "    .colab-df-convert:hover {\n",
              "      background-color: #E2EBFA;\n",
              "      box-shadow: 0px 1px 2px rgba(60, 64, 67, 0.3), 0px 1px 3px 1px rgba(60, 64, 67, 0.15);\n",
              "      fill: #174EA6;\n",
              "    }\n",
              "\n",
              "    [theme=dark] .colab-df-convert {\n",
              "      background-color: #3B4455;\n",
              "      fill: #D2E3FC;\n",
              "    }\n",
              "\n",
              "    [theme=dark] .colab-df-convert:hover {\n",
              "      background-color: #434B5C;\n",
              "      box-shadow: 0px 1px 3px 1px rgba(0, 0, 0, 0.15);\n",
              "      filter: drop-shadow(0px 1px 2px rgba(0, 0, 0, 0.3));\n",
              "      fill: #FFFFFF;\n",
              "    }\n",
              "  </style>\n",
              "\n",
              "      <script>\n",
              "        const buttonEl =\n",
              "          document.querySelector('#df-8a1d9ccb-4d11-4668-97e7-f78558646b5c button.colab-df-convert');\n",
              "        buttonEl.style.display =\n",
              "          google.colab.kernel.accessAllowed ? 'block' : 'none';\n",
              "\n",
              "        async function convertToInteractive(key) {\n",
              "          const element = document.querySelector('#df-8a1d9ccb-4d11-4668-97e7-f78558646b5c');\n",
              "          const dataTable =\n",
              "            await google.colab.kernel.invokeFunction('convertToInteractive',\n",
              "                                                     [key], {});\n",
              "          if (!dataTable) return;\n",
              "\n",
              "          const docLinkHtml = 'Like what you see? Visit the ' +\n",
              "            '<a target=\"_blank\" href=https://colab.research.google.com/notebooks/data_table.ipynb>data table notebook</a>'\n",
              "            + ' to learn more about interactive tables.';\n",
              "          element.innerHTML = '';\n",
              "          dataTable['output_type'] = 'display_data';\n",
              "          await google.colab.output.renderOutput(dataTable, element);\n",
              "          const docLink = document.createElement('div');\n",
              "          docLink.innerHTML = docLinkHtml;\n",
              "          element.appendChild(docLink);\n",
              "        }\n",
              "      </script>\n",
              "    </div>\n",
              "  </div>\n",
              "  "
            ]
          },
          "metadata": {},
          "execution_count": 32
        }
      ]
    },
    {
      "cell_type": "code",
      "source": [
        "df['Rating'].value_counts()"
      ],
      "metadata": {
        "colab": {
          "base_uri": "https://localhost:8080/"
        },
        "id": "TgQcLHXr_vHf",
        "outputId": "a44bba9d-23e1-41f9-8e25-b095a7ff54a7"
      },
      "execution_count": 33,
      "outputs": [
        {
          "output_type": "execute_result",
          "data": {
            "text/plain": [
              "0.0    2006\n",
              "5.0    1312\n",
              "4.9     330\n",
              "4.0      11\n",
              "4.7       2\n",
              "Name: Rating, dtype: int64"
            ]
          },
          "metadata": {},
          "execution_count": 33
        }
      ]
    },
    {
      "cell_type": "markdown",
      "source": [
        "# 8) Check data information for final result\n"
      ],
      "metadata": {
        "id": "06FcTtUz6iC7"
      }
    },
    {
      "cell_type": "code",
      "source": [
        "df1= pd.read_csv('Preprocessed_data.csv')"
      ],
      "metadata": {
        "id": "dBgAlHeBfNxK"
      },
      "execution_count": 34,
      "outputs": []
    },
    {
      "cell_type": "code",
      "source": [
        "#print(df.describe())\n",
        "df.describe()"
      ],
      "metadata": {
        "id": "rV7MNqR4enbr",
        "colab": {
          "base_uri": "https://localhost:8080/",
          "height": 0
        },
        "outputId": "6888a781-9473-4125-988d-b3acbea86014"
      },
      "execution_count": 35,
      "outputs": [
        {
          "output_type": "execute_result",
          "data": {
            "text/plain": [
              "             Price          Sales       Rating  Rating record  Discount(%)  \\\n",
              "count  3585.000000    3661.000000  3661.000000    3661.000000   533.000000   \n",
              "mean    290.104017    8790.183556     2.248129    3336.063371    17.358349   \n",
              "std     147.940290   18069.941718     2.476142    7423.129383     6.692853   \n",
              "min      60.000000       0.000000     0.000000       0.000000     5.000000   \n",
              "25%     195.000000     763.000000     0.000000     240.000000    15.000000   \n",
              "50%     289.000000    3900.000000     0.000000    1300.000000    15.000000   \n",
              "75%     345.000000    9500.000000     5.000000    3400.000000    15.000000   \n",
              "max     955.000000  126300.000000     5.000000  124800.000000    48.000000   \n",
              "\n",
              "          Group_ID  \n",
              "count  3661.000000  \n",
              "mean     14.312756  \n",
              "std       8.033654  \n",
              "min       1.000000  \n",
              "25%       8.000000  \n",
              "50%      15.000000  \n",
              "75%      20.000000  \n",
              "max      36.000000  "
            ],
            "text/html": [
              "\n",
              "  <div id=\"df-8acb2aa6-7a4d-4830-b4c6-eeb3004f86f1\">\n",
              "    <div class=\"colab-df-container\">\n",
              "      <div>\n",
              "<style scoped>\n",
              "    .dataframe tbody tr th:only-of-type {\n",
              "        vertical-align: middle;\n",
              "    }\n",
              "\n",
              "    .dataframe tbody tr th {\n",
              "        vertical-align: top;\n",
              "    }\n",
              "\n",
              "    .dataframe thead th {\n",
              "        text-align: right;\n",
              "    }\n",
              "</style>\n",
              "<table border=\"1\" class=\"dataframe\">\n",
              "  <thead>\n",
              "    <tr style=\"text-align: right;\">\n",
              "      <th></th>\n",
              "      <th>Price</th>\n",
              "      <th>Sales</th>\n",
              "      <th>Rating</th>\n",
              "      <th>Rating record</th>\n",
              "      <th>Discount(%)</th>\n",
              "      <th>Group_ID</th>\n",
              "    </tr>\n",
              "  </thead>\n",
              "  <tbody>\n",
              "    <tr>\n",
              "      <th>count</th>\n",
              "      <td>3585.000000</td>\n",
              "      <td>3661.000000</td>\n",
              "      <td>3661.000000</td>\n",
              "      <td>3661.000000</td>\n",
              "      <td>533.000000</td>\n",
              "      <td>3661.000000</td>\n",
              "    </tr>\n",
              "    <tr>\n",
              "      <th>mean</th>\n",
              "      <td>290.104017</td>\n",
              "      <td>8790.183556</td>\n",
              "      <td>2.248129</td>\n",
              "      <td>3336.063371</td>\n",
              "      <td>17.358349</td>\n",
              "      <td>14.312756</td>\n",
              "    </tr>\n",
              "    <tr>\n",
              "      <th>std</th>\n",
              "      <td>147.940290</td>\n",
              "      <td>18069.941718</td>\n",
              "      <td>2.476142</td>\n",
              "      <td>7423.129383</td>\n",
              "      <td>6.692853</td>\n",
              "      <td>8.033654</td>\n",
              "    </tr>\n",
              "    <tr>\n",
              "      <th>min</th>\n",
              "      <td>60.000000</td>\n",
              "      <td>0.000000</td>\n",
              "      <td>0.000000</td>\n",
              "      <td>0.000000</td>\n",
              "      <td>5.000000</td>\n",
              "      <td>1.000000</td>\n",
              "    </tr>\n",
              "    <tr>\n",
              "      <th>25%</th>\n",
              "      <td>195.000000</td>\n",
              "      <td>763.000000</td>\n",
              "      <td>0.000000</td>\n",
              "      <td>240.000000</td>\n",
              "      <td>15.000000</td>\n",
              "      <td>8.000000</td>\n",
              "    </tr>\n",
              "    <tr>\n",
              "      <th>50%</th>\n",
              "      <td>289.000000</td>\n",
              "      <td>3900.000000</td>\n",
              "      <td>0.000000</td>\n",
              "      <td>1300.000000</td>\n",
              "      <td>15.000000</td>\n",
              "      <td>15.000000</td>\n",
              "    </tr>\n",
              "    <tr>\n",
              "      <th>75%</th>\n",
              "      <td>345.000000</td>\n",
              "      <td>9500.000000</td>\n",
              "      <td>5.000000</td>\n",
              "      <td>3400.000000</td>\n",
              "      <td>15.000000</td>\n",
              "      <td>20.000000</td>\n",
              "    </tr>\n",
              "    <tr>\n",
              "      <th>max</th>\n",
              "      <td>955.000000</td>\n",
              "      <td>126300.000000</td>\n",
              "      <td>5.000000</td>\n",
              "      <td>124800.000000</td>\n",
              "      <td>48.000000</td>\n",
              "      <td>36.000000</td>\n",
              "    </tr>\n",
              "  </tbody>\n",
              "</table>\n",
              "</div>\n",
              "      <button class=\"colab-df-convert\" onclick=\"convertToInteractive('df-8acb2aa6-7a4d-4830-b4c6-eeb3004f86f1')\"\n",
              "              title=\"Convert this dataframe to an interactive table.\"\n",
              "              style=\"display:none;\">\n",
              "        \n",
              "  <svg xmlns=\"http://www.w3.org/2000/svg\" height=\"24px\"viewBox=\"0 0 24 24\"\n",
              "       width=\"24px\">\n",
              "    <path d=\"M0 0h24v24H0V0z\" fill=\"none\"/>\n",
              "    <path d=\"M18.56 5.44l.94 2.06.94-2.06 2.06-.94-2.06-.94-.94-2.06-.94 2.06-2.06.94zm-11 1L8.5 8.5l.94-2.06 2.06-.94-2.06-.94L8.5 2.5l-.94 2.06-2.06.94zm10 10l.94 2.06.94-2.06 2.06-.94-2.06-.94-.94-2.06-.94 2.06-2.06.94z\"/><path d=\"M17.41 7.96l-1.37-1.37c-.4-.4-.92-.59-1.43-.59-.52 0-1.04.2-1.43.59L10.3 9.45l-7.72 7.72c-.78.78-.78 2.05 0 2.83L4 21.41c.39.39.9.59 1.41.59.51 0 1.02-.2 1.41-.59l7.78-7.78 2.81-2.81c.8-.78.8-2.07 0-2.86zM5.41 20L4 18.59l7.72-7.72 1.47 1.35L5.41 20z\"/>\n",
              "  </svg>\n",
              "      </button>\n",
              "      \n",
              "  <style>\n",
              "    .colab-df-container {\n",
              "      display:flex;\n",
              "      flex-wrap:wrap;\n",
              "      gap: 12px;\n",
              "    }\n",
              "\n",
              "    .colab-df-convert {\n",
              "      background-color: #E8F0FE;\n",
              "      border: none;\n",
              "      border-radius: 50%;\n",
              "      cursor: pointer;\n",
              "      display: none;\n",
              "      fill: #1967D2;\n",
              "      height: 32px;\n",
              "      padding: 0 0 0 0;\n",
              "      width: 32px;\n",
              "    }\n",
              "\n",
              "    .colab-df-convert:hover {\n",
              "      background-color: #E2EBFA;\n",
              "      box-shadow: 0px 1px 2px rgba(60, 64, 67, 0.3), 0px 1px 3px 1px rgba(60, 64, 67, 0.15);\n",
              "      fill: #174EA6;\n",
              "    }\n",
              "\n",
              "    [theme=dark] .colab-df-convert {\n",
              "      background-color: #3B4455;\n",
              "      fill: #D2E3FC;\n",
              "    }\n",
              "\n",
              "    [theme=dark] .colab-df-convert:hover {\n",
              "      background-color: #434B5C;\n",
              "      box-shadow: 0px 1px 3px 1px rgba(0, 0, 0, 0.15);\n",
              "      filter: drop-shadow(0px 1px 2px rgba(0, 0, 0, 0.3));\n",
              "      fill: #FFFFFF;\n",
              "    }\n",
              "  </style>\n",
              "\n",
              "      <script>\n",
              "        const buttonEl =\n",
              "          document.querySelector('#df-8acb2aa6-7a4d-4830-b4c6-eeb3004f86f1 button.colab-df-convert');\n",
              "        buttonEl.style.display =\n",
              "          google.colab.kernel.accessAllowed ? 'block' : 'none';\n",
              "\n",
              "        async function convertToInteractive(key) {\n",
              "          const element = document.querySelector('#df-8acb2aa6-7a4d-4830-b4c6-eeb3004f86f1');\n",
              "          const dataTable =\n",
              "            await google.colab.kernel.invokeFunction('convertToInteractive',\n",
              "                                                     [key], {});\n",
              "          if (!dataTable) return;\n",
              "\n",
              "          const docLinkHtml = 'Like what you see? Visit the ' +\n",
              "            '<a target=\"_blank\" href=https://colab.research.google.com/notebooks/data_table.ipynb>data table notebook</a>'\n",
              "            + ' to learn more about interactive tables.';\n",
              "          element.innerHTML = '';\n",
              "          dataTable['output_type'] = 'display_data';\n",
              "          await google.colab.output.renderOutput(dataTable, element);\n",
              "          const docLink = document.createElement('div');\n",
              "          docLink.innerHTML = docLinkHtml;\n",
              "          element.appendChild(docLink);\n",
              "        }\n",
              "      </script>\n",
              "    </div>\n",
              "  </div>\n",
              "  "
            ]
          },
          "metadata": {},
          "execution_count": 35
        }
      ]
    },
    {
      "cell_type": "code",
      "source": [
        "df1.info()"
      ],
      "metadata": {
        "id": "EXEyb3yVg7Qq",
        "colab": {
          "base_uri": "https://localhost:8080/"
        },
        "outputId": "e90a189a-806c-4ba1-e98b-d766b7b0281d"
      },
      "execution_count": 36,
      "outputs": [
        {
          "output_type": "stream",
          "name": "stdout",
          "text": [
            "<class 'pandas.core.frame.DataFrame'>\n",
            "RangeIndex: 3661 entries, 0 to 3660\n",
            "Data columns (total 12 columns):\n",
            " #   Column         Non-Null Count  Dtype  \n",
            "---  ------         --------------  -----  \n",
            " 0   Unnamed: 0     3661 non-null   int64  \n",
            " 1   Name           3661 non-null   object \n",
            " 2   Price          3585 non-null   float64\n",
            " 3   Sales          3661 non-null   float64\n",
            " 4   Rating         3661 non-null   float64\n",
            " 5   Rating record  3661 non-null   float64\n",
            " 6   Date           3661 non-null   object \n",
            " 7   Discount(%)    533 non-null    float64\n",
            " 8   Category       3661 non-null   object \n",
            " 9   Ini_cat        3661 non-null   object \n",
            " 10  Group_ID       3661 non-null   int64  \n",
            " 11  Product_ID     3661 non-null   object \n",
            "dtypes: float64(5), int64(2), object(5)\n",
            "memory usage: 343.3+ KB\n"
          ]
        }
      ]
    },
    {
      "cell_type": "code",
      "source": [
        "print(df1.columns)"
      ],
      "metadata": {
        "id": "vSXysbUniUmf",
        "colab": {
          "base_uri": "https://localhost:8080/"
        },
        "outputId": "3aa76ef4-cf8f-4ca1-cec0-95a0f19b7cf4"
      },
      "execution_count": 37,
      "outputs": [
        {
          "output_type": "stream",
          "name": "stdout",
          "text": [
            "Index(['Unnamed: 0', 'Name', 'Price', 'Sales', 'Rating', 'Rating record',\n",
            "       'Date', 'Discount(%)', 'Category', 'Ini_cat', 'Group_ID', 'Product_ID'],\n",
            "      dtype='object')\n"
          ]
        }
      ]
    },
    {
      "cell_type": "code",
      "source": [
        "df1=df1.drop(columns=['Unnamed: 0','Group_ID'])"
      ],
      "metadata": {
        "id": "NYFAv0ahhG3Y"
      },
      "execution_count": 38,
      "outputs": []
    },
    {
      "cell_type": "code",
      "source": [
        "# specify a formatting function that converts the scientific notation to a fixed-point notation\n",
        "pd.options.display.float_format = '{:.2f}'.format\n",
        "# Rename the columns to include count, std, and mean\n",
        "stats = df1.describe()\n",
        "#save result of statiscal dataset information into csv file \n",
        "stats.to_csv(\"Statiscal result.csv\", index= True)\n",
        "stats"
      ],
      "metadata": {
        "id": "cbSQ0U_kfHzp",
        "colab": {
          "base_uri": "https://localhost:8080/",
          "height": 0
        },
        "outputId": "2f2143bb-dcf0-4446-c7c7-f54ccd35f9ce"
      },
      "execution_count": 39,
      "outputs": [
        {
          "output_type": "execute_result",
          "data": {
            "text/plain": [
              "        Price     Sales  Rating  Rating record  Discount(%)\n",
              "count 3585.00   3661.00 3661.00        3661.00       533.00\n",
              "mean   290.10   8790.18    2.25        3336.06        17.36\n",
              "std    147.94  18069.94    2.48        7423.13         6.69\n",
              "min     60.00      0.00    0.00           0.00         5.00\n",
              "25%    195.00    763.00    0.00         240.00        15.00\n",
              "50%    289.00   3900.00    0.00        1300.00        15.00\n",
              "75%    345.00   9500.00    5.00        3400.00        15.00\n",
              "max    955.00 126300.00    5.00      124800.00        48.00"
            ],
            "text/html": [
              "\n",
              "  <div id=\"df-6b31e23f-c219-4fdf-97bc-ad9c38b9866d\">\n",
              "    <div class=\"colab-df-container\">\n",
              "      <div>\n",
              "<style scoped>\n",
              "    .dataframe tbody tr th:only-of-type {\n",
              "        vertical-align: middle;\n",
              "    }\n",
              "\n",
              "    .dataframe tbody tr th {\n",
              "        vertical-align: top;\n",
              "    }\n",
              "\n",
              "    .dataframe thead th {\n",
              "        text-align: right;\n",
              "    }\n",
              "</style>\n",
              "<table border=\"1\" class=\"dataframe\">\n",
              "  <thead>\n",
              "    <tr style=\"text-align: right;\">\n",
              "      <th></th>\n",
              "      <th>Price</th>\n",
              "      <th>Sales</th>\n",
              "      <th>Rating</th>\n",
              "      <th>Rating record</th>\n",
              "      <th>Discount(%)</th>\n",
              "    </tr>\n",
              "  </thead>\n",
              "  <tbody>\n",
              "    <tr>\n",
              "      <th>count</th>\n",
              "      <td>3585.00</td>\n",
              "      <td>3661.00</td>\n",
              "      <td>3661.00</td>\n",
              "      <td>3661.00</td>\n",
              "      <td>533.00</td>\n",
              "    </tr>\n",
              "    <tr>\n",
              "      <th>mean</th>\n",
              "      <td>290.10</td>\n",
              "      <td>8790.18</td>\n",
              "      <td>2.25</td>\n",
              "      <td>3336.06</td>\n",
              "      <td>17.36</td>\n",
              "    </tr>\n",
              "    <tr>\n",
              "      <th>std</th>\n",
              "      <td>147.94</td>\n",
              "      <td>18069.94</td>\n",
              "      <td>2.48</td>\n",
              "      <td>7423.13</td>\n",
              "      <td>6.69</td>\n",
              "    </tr>\n",
              "    <tr>\n",
              "      <th>min</th>\n",
              "      <td>60.00</td>\n",
              "      <td>0.00</td>\n",
              "      <td>0.00</td>\n",
              "      <td>0.00</td>\n",
              "      <td>5.00</td>\n",
              "    </tr>\n",
              "    <tr>\n",
              "      <th>25%</th>\n",
              "      <td>195.00</td>\n",
              "      <td>763.00</td>\n",
              "      <td>0.00</td>\n",
              "      <td>240.00</td>\n",
              "      <td>15.00</td>\n",
              "    </tr>\n",
              "    <tr>\n",
              "      <th>50%</th>\n",
              "      <td>289.00</td>\n",
              "      <td>3900.00</td>\n",
              "      <td>0.00</td>\n",
              "      <td>1300.00</td>\n",
              "      <td>15.00</td>\n",
              "    </tr>\n",
              "    <tr>\n",
              "      <th>75%</th>\n",
              "      <td>345.00</td>\n",
              "      <td>9500.00</td>\n",
              "      <td>5.00</td>\n",
              "      <td>3400.00</td>\n",
              "      <td>15.00</td>\n",
              "    </tr>\n",
              "    <tr>\n",
              "      <th>max</th>\n",
              "      <td>955.00</td>\n",
              "      <td>126300.00</td>\n",
              "      <td>5.00</td>\n",
              "      <td>124800.00</td>\n",
              "      <td>48.00</td>\n",
              "    </tr>\n",
              "  </tbody>\n",
              "</table>\n",
              "</div>\n",
              "      <button class=\"colab-df-convert\" onclick=\"convertToInteractive('df-6b31e23f-c219-4fdf-97bc-ad9c38b9866d')\"\n",
              "              title=\"Convert this dataframe to an interactive table.\"\n",
              "              style=\"display:none;\">\n",
              "        \n",
              "  <svg xmlns=\"http://www.w3.org/2000/svg\" height=\"24px\"viewBox=\"0 0 24 24\"\n",
              "       width=\"24px\">\n",
              "    <path d=\"M0 0h24v24H0V0z\" fill=\"none\"/>\n",
              "    <path d=\"M18.56 5.44l.94 2.06.94-2.06 2.06-.94-2.06-.94-.94-2.06-.94 2.06-2.06.94zm-11 1L8.5 8.5l.94-2.06 2.06-.94-2.06-.94L8.5 2.5l-.94 2.06-2.06.94zm10 10l.94 2.06.94-2.06 2.06-.94-2.06-.94-.94-2.06-.94 2.06-2.06.94z\"/><path d=\"M17.41 7.96l-1.37-1.37c-.4-.4-.92-.59-1.43-.59-.52 0-1.04.2-1.43.59L10.3 9.45l-7.72 7.72c-.78.78-.78 2.05 0 2.83L4 21.41c.39.39.9.59 1.41.59.51 0 1.02-.2 1.41-.59l7.78-7.78 2.81-2.81c.8-.78.8-2.07 0-2.86zM5.41 20L4 18.59l7.72-7.72 1.47 1.35L5.41 20z\"/>\n",
              "  </svg>\n",
              "      </button>\n",
              "      \n",
              "  <style>\n",
              "    .colab-df-container {\n",
              "      display:flex;\n",
              "      flex-wrap:wrap;\n",
              "      gap: 12px;\n",
              "    }\n",
              "\n",
              "    .colab-df-convert {\n",
              "      background-color: #E8F0FE;\n",
              "      border: none;\n",
              "      border-radius: 50%;\n",
              "      cursor: pointer;\n",
              "      display: none;\n",
              "      fill: #1967D2;\n",
              "      height: 32px;\n",
              "      padding: 0 0 0 0;\n",
              "      width: 32px;\n",
              "    }\n",
              "\n",
              "    .colab-df-convert:hover {\n",
              "      background-color: #E2EBFA;\n",
              "      box-shadow: 0px 1px 2px rgba(60, 64, 67, 0.3), 0px 1px 3px 1px rgba(60, 64, 67, 0.15);\n",
              "      fill: #174EA6;\n",
              "    }\n",
              "\n",
              "    [theme=dark] .colab-df-convert {\n",
              "      background-color: #3B4455;\n",
              "      fill: #D2E3FC;\n",
              "    }\n",
              "\n",
              "    [theme=dark] .colab-df-convert:hover {\n",
              "      background-color: #434B5C;\n",
              "      box-shadow: 0px 1px 3px 1px rgba(0, 0, 0, 0.15);\n",
              "      filter: drop-shadow(0px 1px 2px rgba(0, 0, 0, 0.3));\n",
              "      fill: #FFFFFF;\n",
              "    }\n",
              "  </style>\n",
              "\n",
              "      <script>\n",
              "        const buttonEl =\n",
              "          document.querySelector('#df-6b31e23f-c219-4fdf-97bc-ad9c38b9866d button.colab-df-convert');\n",
              "        buttonEl.style.display =\n",
              "          google.colab.kernel.accessAllowed ? 'block' : 'none';\n",
              "\n",
              "        async function convertToInteractive(key) {\n",
              "          const element = document.querySelector('#df-6b31e23f-c219-4fdf-97bc-ad9c38b9866d');\n",
              "          const dataTable =\n",
              "            await google.colab.kernel.invokeFunction('convertToInteractive',\n",
              "                                                     [key], {});\n",
              "          if (!dataTable) return;\n",
              "\n",
              "          const docLinkHtml = 'Like what you see? Visit the ' +\n",
              "            '<a target=\"_blank\" href=https://colab.research.google.com/notebooks/data_table.ipynb>data table notebook</a>'\n",
              "            + ' to learn more about interactive tables.';\n",
              "          element.innerHTML = '';\n",
              "          dataTable['output_type'] = 'display_data';\n",
              "          await google.colab.output.renderOutput(dataTable, element);\n",
              "          const docLink = document.createElement('div');\n",
              "          docLink.innerHTML = docLinkHtml;\n",
              "          element.appendChild(docLink);\n",
              "        }\n",
              "      </script>\n",
              "    </div>\n",
              "  </div>\n",
              "  "
            ]
          },
          "metadata": {},
          "execution_count": 39
        }
      ]
    }
  ]
}